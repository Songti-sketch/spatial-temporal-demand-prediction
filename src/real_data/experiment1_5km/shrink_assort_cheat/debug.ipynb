{
 "cells": [
  {
   "cell_type": "markdown",
   "metadata": {},
   "source": [
    "# Why hourly assortment performs bad?"
   ]
  },
  {
   "cell_type": "code",
   "execution_count": 2,
   "metadata": {},
   "outputs": [],
   "source": [
    "import numpy as np\n",
    "from scipy.optimize import minimize\n",
    "from math import radians, cos, sin, asin, sqrt\n"
   ]
  },
  {
   "cell_type": "code",
   "execution_count": 3,
   "metadata": {},
   "outputs": [],
   "source": [
    "import pandas as pd\n",
    "import numpy as np\n",
    "from main3_0623 import TemporalAnalyzer\n",
    "import multiprocessing\n",
    "import os\n",
    "from datetime import datetime, timedelta\n",
    "from itertools import product\n",
    "\n",
    "import matplotlib.pyplot as plt\n",
    "import seaborn as sns\n",
    "from preprocessing3 import Preprocessor\n",
    "from estimation3 import Estimator, EstimationResult\n",
    "import os"
   ]
  },
  {
   "cell_type": "code",
   "execution_count": 3,
   "metadata": {},
   "outputs": [],
   "source": [
    "def time_period_in_minutes(start_time, end_time):\n",
    "    \"\"\"\n",
    "    Calculate the time period in minutes between two time strings.\n",
    "    \n",
    "    Args:\n",
    "        start_time (str): Start time in 'HH:MM' or 'HH:MM:SS' format\n",
    "        end_time (str): End time in 'HH:MM' or 'HH:MM:SS' format\n",
    "    \n",
    "    Returns:\n",
    "        float: Time period in minutes\n",
    "    \n",
    "    Raises:\n",
    "        ValueError: If time strings are in an invalid format\n",
    "    \"\"\"\n",
    "    try:\n",
    "        start_dt = datetime.strptime(start_time, '%H:%M:%S')\n",
    "        end_dt = datetime.strptime(end_time, '%H:%M:%S')\n",
    "    except ValueError:\n",
    "        try:\n",
    "            start_dt = datetime.strptime(start_time, '%H:%M')\n",
    "            end_dt = datetime.strptime(end_time, '%H:%M')\n",
    "        except ValueError:\n",
    "            raise ValueError(\"Invalid time format. Use 'HH:MM' or 'HH:MM:SS'.\")\n",
    "    \n",
    "    delta = end_dt - start_dt\n",
    "    if delta.total_seconds() < 0:\n",
    "        delta += timedelta(days=1)\n",
    "    return delta.total_seconds() / 60\n"
   ]
  },
  {
   "cell_type": "code",
   "execution_count": 4,
   "metadata": {},
   "outputs": [],
   "source": [
    "data_path = '/home/go3/wch_code/jx/real_data/data/cleaned_data2.csv'\n",
    "df = pd.read_csv(data_path)"
   ]
  },
  {
   "cell_type": "code",
   "execution_count": 5,
   "metadata": {},
   "outputs": [
    {
     "data": {
      "text/html": [
       "<div>\n",
       "<style scoped>\n",
       "    .dataframe tbody tr th:only-of-type {\n",
       "        vertical-align: middle;\n",
       "    }\n",
       "\n",
       "    .dataframe tbody tr th {\n",
       "        vertical-align: top;\n",
       "    }\n",
       "\n",
       "    .dataframe thead th {\n",
       "        text-align: right;\n",
       "    }\n",
       "</style>\n",
       "<table border=\"1\" class=\"dataframe\">\n",
       "  <thead>\n",
       "    <tr style=\"text-align: right;\">\n",
       "      <th></th>\n",
       "      <th>Unnamed: 0.1</th>\n",
       "      <th>Unnamed: 0</th>\n",
       "      <th>dt</th>\n",
       "      <th>order_id</th>\n",
       "      <th>waybill_id</th>\n",
       "      <th>courier_id</th>\n",
       "      <th>da_id</th>\n",
       "      <th>is_courier_grabbed</th>\n",
       "      <th>is_weekend</th>\n",
       "      <th>estimate_arrived_time</th>\n",
       "      <th>...</th>\n",
       "      <th>grab_lng</th>\n",
       "      <th>grab_lat</th>\n",
       "      <th>dispatch_time</th>\n",
       "      <th>grab_time</th>\n",
       "      <th>fetch_time</th>\n",
       "      <th>arrive_time</th>\n",
       "      <th>estimate_meal_prepare_time</th>\n",
       "      <th>order_push_time</th>\n",
       "      <th>platform_order_time</th>\n",
       "      <th>estimate_duration</th>\n",
       "    </tr>\n",
       "  </thead>\n",
       "  <tbody>\n",
       "    <tr>\n",
       "      <th>0</th>\n",
       "      <td>1</td>\n",
       "      <td>1</td>\n",
       "      <td>20221017</td>\n",
       "      <td>1</td>\n",
       "      <td>1</td>\n",
       "      <td>1</td>\n",
       "      <td>1</td>\n",
       "      <td>1</td>\n",
       "      <td>1</td>\n",
       "      <td>2022-10-17 00:31:04</td>\n",
       "      <td>...</td>\n",
       "      <td>174530062</td>\n",
       "      <td>45906005</td>\n",
       "      <td>2022-10-17 00:12:14</td>\n",
       "      <td>2022-10-17 00:12:17</td>\n",
       "      <td>2022-10-17 00:22:24</td>\n",
       "      <td>2022-10-17 00:29:58</td>\n",
       "      <td>2022-10-17 00:14:05</td>\n",
       "      <td>2022-10-17 00:00:06</td>\n",
       "      <td>2022-10-16 23:59:55</td>\n",
       "      <td>0 days 00:31:09</td>\n",
       "    </tr>\n",
       "    <tr>\n",
       "      <th>1</th>\n",
       "      <td>2</td>\n",
       "      <td>2</td>\n",
       "      <td>20221017</td>\n",
       "      <td>2</td>\n",
       "      <td>2</td>\n",
       "      <td>2</td>\n",
       "      <td>2</td>\n",
       "      <td>1</td>\n",
       "      <td>0</td>\n",
       "      <td>2022-10-17 00:58:24</td>\n",
       "      <td>...</td>\n",
       "      <td>174548244</td>\n",
       "      <td>45870923</td>\n",
       "      <td>2022-10-17 00:24:44</td>\n",
       "      <td>2022-10-17 00:25:01</td>\n",
       "      <td>2022-10-17 00:39:06</td>\n",
       "      <td>2022-10-17 00:56:24</td>\n",
       "      <td>2022-10-17 00:33:27</td>\n",
       "      <td>2022-10-17 00:18:27</td>\n",
       "      <td>2022-10-17 00:18:17</td>\n",
       "      <td>0 days 00:40:07</td>\n",
       "    </tr>\n",
       "    <tr>\n",
       "      <th>2</th>\n",
       "      <td>3</td>\n",
       "      <td>3</td>\n",
       "      <td>20221017</td>\n",
       "      <td>3</td>\n",
       "      <td>3</td>\n",
       "      <td>3</td>\n",
       "      <td>0</td>\n",
       "      <td>1</td>\n",
       "      <td>0</td>\n",
       "      <td>2022-10-17 00:57:12</td>\n",
       "      <td>...</td>\n",
       "      <td>174560199</td>\n",
       "      <td>45867948</td>\n",
       "      <td>2022-10-17 00:23:14</td>\n",
       "      <td>2022-10-17 00:23:17</td>\n",
       "      <td>2022-10-17 00:30:30</td>\n",
       "      <td>2022-10-17 01:03:42</td>\n",
       "      <td>2022-10-17 00:27:14</td>\n",
       "      <td>2022-10-17 00:22:49</td>\n",
       "      <td>2022-10-17 00:17:08</td>\n",
       "      <td>0 days 00:40:04</td>\n",
       "    </tr>\n",
       "    <tr>\n",
       "      <th>3</th>\n",
       "      <td>4</td>\n",
       "      <td>4</td>\n",
       "      <td>20221017</td>\n",
       "      <td>4</td>\n",
       "      <td>4</td>\n",
       "      <td>4</td>\n",
       "      <td>0</td>\n",
       "      <td>1</td>\n",
       "      <td>0</td>\n",
       "      <td>2022-10-17 00:48:14</td>\n",
       "      <td>...</td>\n",
       "      <td>174554896</td>\n",
       "      <td>45865167</td>\n",
       "      <td>2022-10-17 00:23:14</td>\n",
       "      <td>2022-10-17 00:23:33</td>\n",
       "      <td>2022-10-17 00:28:30</td>\n",
       "      <td>2022-10-17 00:37:42</td>\n",
       "      <td>2022-10-17 00:28:14</td>\n",
       "      <td>2022-10-17 00:22:53</td>\n",
       "      <td>2022-10-17 00:18:12</td>\n",
       "      <td>0 days 00:30:02</td>\n",
       "    </tr>\n",
       "    <tr>\n",
       "      <th>4</th>\n",
       "      <td>5</td>\n",
       "      <td>5</td>\n",
       "      <td>20221017</td>\n",
       "      <td>5</td>\n",
       "      <td>5</td>\n",
       "      <td>5</td>\n",
       "      <td>3</td>\n",
       "      <td>1</td>\n",
       "      <td>0</td>\n",
       "      <td>2022-10-17 01:15:00</td>\n",
       "      <td>...</td>\n",
       "      <td>174526338</td>\n",
       "      <td>45912309</td>\n",
       "      <td>2022-10-17 00:45:27</td>\n",
       "      <td>2022-10-17 00:45:41</td>\n",
       "      <td>2022-10-17 01:07:41</td>\n",
       "      <td>2022-10-17 01:14:56</td>\n",
       "      <td>2022-10-17 00:53:45</td>\n",
       "      <td>2022-10-17 00:40:03</td>\n",
       "      <td>2022-10-17 00:39:59</td>\n",
       "      <td>0 days 00:35:01</td>\n",
       "    </tr>\n",
       "    <tr>\n",
       "      <th>...</th>\n",
       "      <td>...</td>\n",
       "      <td>...</td>\n",
       "      <td>...</td>\n",
       "      <td>...</td>\n",
       "      <td>...</td>\n",
       "      <td>...</td>\n",
       "      <td>...</td>\n",
       "      <td>...</td>\n",
       "      <td>...</td>\n",
       "      <td>...</td>\n",
       "      <td>...</td>\n",
       "      <td>...</td>\n",
       "      <td>...</td>\n",
       "      <td>...</td>\n",
       "      <td>...</td>\n",
       "      <td>...</td>\n",
       "      <td>...</td>\n",
       "      <td>...</td>\n",
       "      <td>...</td>\n",
       "      <td>...</td>\n",
       "      <td>...</td>\n",
       "    </tr>\n",
       "    <tr>\n",
       "      <th>568541</th>\n",
       "      <td>654337</td>\n",
       "      <td>654337</td>\n",
       "      <td>20221024</td>\n",
       "      <td>568542</td>\n",
       "      <td>654337</td>\n",
       "      <td>1852</td>\n",
       "      <td>9</td>\n",
       "      <td>1</td>\n",
       "      <td>0</td>\n",
       "      <td>2022-10-24 23:13:31</td>\n",
       "      <td>...</td>\n",
       "      <td>174648556</td>\n",
       "      <td>45879505</td>\n",
       "      <td>2022-10-24 22:45:57</td>\n",
       "      <td>2022-10-24 22:46:02</td>\n",
       "      <td>2022-10-24 22:53:51</td>\n",
       "      <td>2022-10-24 23:05:14</td>\n",
       "      <td>2022-10-24 23:03:32</td>\n",
       "      <td>2022-10-24 22:43:32</td>\n",
       "      <td>2022-10-24 22:39:50</td>\n",
       "      <td>0 days 00:33:41</td>\n",
       "    </tr>\n",
       "    <tr>\n",
       "      <th>568542</th>\n",
       "      <td>654339</td>\n",
       "      <td>654339</td>\n",
       "      <td>20221024</td>\n",
       "      <td>568543</td>\n",
       "      <td>654339</td>\n",
       "      <td>1957</td>\n",
       "      <td>0</td>\n",
       "      <td>1</td>\n",
       "      <td>0</td>\n",
       "      <td>2022-10-24 23:27:19</td>\n",
       "      <td>...</td>\n",
       "      <td>174576809</td>\n",
       "      <td>45873238</td>\n",
       "      <td>2022-10-24 22:57:18</td>\n",
       "      <td>2022-10-24 22:57:43</td>\n",
       "      <td>2022-10-24 23:11:27</td>\n",
       "      <td>2022-10-24 23:18:09</td>\n",
       "      <td>2022-10-24 23:09:12</td>\n",
       "      <td>2022-10-24 22:57:16</td>\n",
       "      <td>2022-10-24 22:55:13</td>\n",
       "      <td>0 days 00:32:06</td>\n",
       "    </tr>\n",
       "    <tr>\n",
       "      <th>568543</th>\n",
       "      <td>654340</td>\n",
       "      <td>654340</td>\n",
       "      <td>20221024</td>\n",
       "      <td>568544</td>\n",
       "      <td>654340</td>\n",
       "      <td>2323</td>\n",
       "      <td>9</td>\n",
       "      <td>1</td>\n",
       "      <td>0</td>\n",
       "      <td>2022-10-25 00:03:12</td>\n",
       "      <td>...</td>\n",
       "      <td>174624149</td>\n",
       "      <td>45872077</td>\n",
       "      <td>2022-10-24 23:27:27</td>\n",
       "      <td>2022-10-24 23:27:41</td>\n",
       "      <td>2022-10-24 23:43:47</td>\n",
       "      <td>2022-10-24 23:59:32</td>\n",
       "      <td>2022-10-24 23:32:14</td>\n",
       "      <td>2022-10-24 23:27:07</td>\n",
       "      <td>2022-10-24 23:22:03</td>\n",
       "      <td>0 days 00:41:09</td>\n",
       "    </tr>\n",
       "    <tr>\n",
       "      <th>568544</th>\n",
       "      <td>654341</td>\n",
       "      <td>654341</td>\n",
       "      <td>20221024</td>\n",
       "      <td>162081</td>\n",
       "      <td>654341</td>\n",
       "      <td>211</td>\n",
       "      <td>12</td>\n",
       "      <td>1</td>\n",
       "      <td>0</td>\n",
       "      <td>2022-10-25 00:20:12</td>\n",
       "      <td>...</td>\n",
       "      <td>174537979</td>\n",
       "      <td>45895683</td>\n",
       "      <td>2022-10-24 23:53:47</td>\n",
       "      <td>2022-10-24 23:54:02</td>\n",
       "      <td>2022-10-25 00:05:38</td>\n",
       "      <td>2022-10-25 00:16:37</td>\n",
       "      <td>2022-10-24 23:59:13</td>\n",
       "      <td>2022-10-24 23:50:13</td>\n",
       "      <td>2022-10-24 23:49:59</td>\n",
       "      <td>0 days 00:30:13</td>\n",
       "    </tr>\n",
       "    <tr>\n",
       "      <th>568545</th>\n",
       "      <td>654342</td>\n",
       "      <td>654342</td>\n",
       "      <td>20221024</td>\n",
       "      <td>568545</td>\n",
       "      <td>654342</td>\n",
       "      <td>211</td>\n",
       "      <td>12</td>\n",
       "      <td>1</td>\n",
       "      <td>0</td>\n",
       "      <td>2022-10-25 00:28:20</td>\n",
       "      <td>...</td>\n",
       "      <td>174534142</td>\n",
       "      <td>45894631</td>\n",
       "      <td>2022-10-25 00:01:47</td>\n",
       "      <td>2022-10-25 00:02:16</td>\n",
       "      <td>2022-10-25 00:07:39</td>\n",
       "      <td>2022-10-25 00:30:32</td>\n",
       "      <td>2022-10-25 00:06:13</td>\n",
       "      <td>2022-10-24 23:55:13</td>\n",
       "      <td>2022-10-24 23:49:59</td>\n",
       "      <td>0 days 00:38:21</td>\n",
       "    </tr>\n",
       "  </tbody>\n",
       "</table>\n",
       "<p>568546 rows × 26 columns</p>\n",
       "</div>"
      ],
      "text/plain": [
       "        Unnamed: 0.1  Unnamed: 0        dt  order_id  waybill_id  courier_id  \\\n",
       "0                  1           1  20221017         1           1           1   \n",
       "1                  2           2  20221017         2           2           2   \n",
       "2                  3           3  20221017         3           3           3   \n",
       "3                  4           4  20221017         4           4           4   \n",
       "4                  5           5  20221017         5           5           5   \n",
       "...              ...         ...       ...       ...         ...         ...   \n",
       "568541        654337      654337  20221024    568542      654337        1852   \n",
       "568542        654339      654339  20221024    568543      654339        1957   \n",
       "568543        654340      654340  20221024    568544      654340        2323   \n",
       "568544        654341      654341  20221024    162081      654341         211   \n",
       "568545        654342      654342  20221024    568545      654342         211   \n",
       "\n",
       "        da_id  is_courier_grabbed  is_weekend estimate_arrived_time  ...  \\\n",
       "0           1                   1           1   2022-10-17 00:31:04  ...   \n",
       "1           2                   1           0   2022-10-17 00:58:24  ...   \n",
       "2           0                   1           0   2022-10-17 00:57:12  ...   \n",
       "3           0                   1           0   2022-10-17 00:48:14  ...   \n",
       "4           3                   1           0   2022-10-17 01:15:00  ...   \n",
       "...       ...                 ...         ...                   ...  ...   \n",
       "568541      9                   1           0   2022-10-24 23:13:31  ...   \n",
       "568542      0                   1           0   2022-10-24 23:27:19  ...   \n",
       "568543      9                   1           0   2022-10-25 00:03:12  ...   \n",
       "568544     12                   1           0   2022-10-25 00:20:12  ...   \n",
       "568545     12                   1           0   2022-10-25 00:28:20  ...   \n",
       "\n",
       "         grab_lng  grab_lat        dispatch_time            grab_time  \\\n",
       "0       174530062  45906005  2022-10-17 00:12:14  2022-10-17 00:12:17   \n",
       "1       174548244  45870923  2022-10-17 00:24:44  2022-10-17 00:25:01   \n",
       "2       174560199  45867948  2022-10-17 00:23:14  2022-10-17 00:23:17   \n",
       "3       174554896  45865167  2022-10-17 00:23:14  2022-10-17 00:23:33   \n",
       "4       174526338  45912309  2022-10-17 00:45:27  2022-10-17 00:45:41   \n",
       "...           ...       ...                  ...                  ...   \n",
       "568541  174648556  45879505  2022-10-24 22:45:57  2022-10-24 22:46:02   \n",
       "568542  174576809  45873238  2022-10-24 22:57:18  2022-10-24 22:57:43   \n",
       "568543  174624149  45872077  2022-10-24 23:27:27  2022-10-24 23:27:41   \n",
       "568544  174537979  45895683  2022-10-24 23:53:47  2022-10-24 23:54:02   \n",
       "568545  174534142  45894631  2022-10-25 00:01:47  2022-10-25 00:02:16   \n",
       "\n",
       "                 fetch_time          arrive_time  estimate_meal_prepare_time  \\\n",
       "0       2022-10-17 00:22:24  2022-10-17 00:29:58         2022-10-17 00:14:05   \n",
       "1       2022-10-17 00:39:06  2022-10-17 00:56:24         2022-10-17 00:33:27   \n",
       "2       2022-10-17 00:30:30  2022-10-17 01:03:42         2022-10-17 00:27:14   \n",
       "3       2022-10-17 00:28:30  2022-10-17 00:37:42         2022-10-17 00:28:14   \n",
       "4       2022-10-17 01:07:41  2022-10-17 01:14:56         2022-10-17 00:53:45   \n",
       "...                     ...                  ...                         ...   \n",
       "568541  2022-10-24 22:53:51  2022-10-24 23:05:14         2022-10-24 23:03:32   \n",
       "568542  2022-10-24 23:11:27  2022-10-24 23:18:09         2022-10-24 23:09:12   \n",
       "568543  2022-10-24 23:43:47  2022-10-24 23:59:32         2022-10-24 23:32:14   \n",
       "568544  2022-10-25 00:05:38  2022-10-25 00:16:37         2022-10-24 23:59:13   \n",
       "568545  2022-10-25 00:07:39  2022-10-25 00:30:32         2022-10-25 00:06:13   \n",
       "\n",
       "            order_push_time  platform_order_time estimate_duration  \n",
       "0       2022-10-17 00:00:06  2022-10-16 23:59:55   0 days 00:31:09  \n",
       "1       2022-10-17 00:18:27  2022-10-17 00:18:17   0 days 00:40:07  \n",
       "2       2022-10-17 00:22:49  2022-10-17 00:17:08   0 days 00:40:04  \n",
       "3       2022-10-17 00:22:53  2022-10-17 00:18:12   0 days 00:30:02  \n",
       "4       2022-10-17 00:40:03  2022-10-17 00:39:59   0 days 00:35:01  \n",
       "...                     ...                  ...               ...  \n",
       "568541  2022-10-24 22:43:32  2022-10-24 22:39:50   0 days 00:33:41  \n",
       "568542  2022-10-24 22:57:16  2022-10-24 22:55:13   0 days 00:32:06  \n",
       "568543  2022-10-24 23:27:07  2022-10-24 23:22:03   0 days 00:41:09  \n",
       "568544  2022-10-24 23:50:13  2022-10-24 23:49:59   0 days 00:30:13  \n",
       "568545  2022-10-24 23:55:13  2022-10-24 23:49:59   0 days 00:38:21  \n",
       "\n",
       "[568546 rows x 26 columns]"
      ]
     },
     "execution_count": 5,
     "metadata": {},
     "output_type": "execute_result"
    }
   ],
   "source": [
    "df"
   ]
  },
  {
   "cell_type": "code",
   "execution_count": 4,
   "metadata": {},
   "outputs": [],
   "source": [
    "data_path = '/home/go3/wch_code/jx/real_data/data/cleaned_data2.csv'\n",
    "df = pd.read_csv(data_path)\n",
    "training_dates = ['2022-10-17', '2022-10-18', '2022-10-19']\n",
    "testing_dates = ['2022-10-20', '2022-10-21']\n",
    "\n",
    "# Define distance and time window configurations\n",
    "dist_per_grid_list = [\n",
    "    # 0.3, 0.4,\n",
    "    # 0.5,\n",
    "    # 0.6\n",
    "    # 0.7, 0.8, 0.9,\n",
    "    # 1.0\n",
    "    # , \n",
    "    1.5, \n",
    "    # 2.0, 2.5, \n",
    "    # 3.0, \n",
    "    # 4.0, 5.0\n",
    "    ]\n",
    "time_windows_configs = [\n",
    "    ('full_day', [\n",
    "        # ('08:00', '10:00'),\n",
    "        # ('08:00:00', '09:59:59'),\n",
    "        # ('10:00:00', '11:59:59'), \n",
    "        ('12:00:00', '13:59:59'),\n",
    "        # ('08:00:00', '08:59:59'), \n",
    "        # ('09:00:00', '09:59:59'), \n",
    "        # ('10:00:00', '10:59:59'), \n",
    "        # ('11:00:00', '11:59:59'), \n",
    "        # ('12:00:00', '12:59:59'),\n",
    "        # ('13:00:00', '13:59:59'),\n",
    "        # ('14:00:00', '14:59:59'), \n",
    "        # ('15:00:00', '15:59:59'), \n",
    "        # ('16:00:00', '16:59:59'),\n",
    "        # ('17:00:00', '17:59:59'), \n",
    "        # ('18:00:00', '18:59:59'),\n",
    "        # ('19:00:00', '19:59:59'),\n",
    "        # ('20:00:00', '20:59:59'),\n",
    "        # ('21:00:00', '21:59:59'), \n",
    "        # ('22:00:00', '22:59:59'),\n",
    "        # ('23:00:00', '23:59:59')\n",
    "    ])\n",
    "]\n",
    "\n",
    "time_windows = time_windows_configs[0][1]  # Use 'full_day' time windows\n",
    "timeperiod = time_period_in_minutes(time_windows[0][0], time_windows[0][1])\n"
   ]
  },
  {
   "cell_type": "code",
   "execution_count": 74,
   "metadata": {},
   "outputs": [
    {
     "data": {
      "text/plain": [
       "119.98333333333333"
      ]
     },
     "execution_count": 74,
     "metadata": {},
     "output_type": "execute_result"
    }
   ],
   "source": [
    "timeperiod"
   ]
  },
  {
   "cell_type": "code",
   "execution_count": 72,
   "metadata": {},
   "outputs": [
    {
     "data": {
      "text/plain": [
       "120.0"
      ]
     },
     "execution_count": 72,
     "metadata": {},
     "output_type": "execute_result"
    }
   ],
   "source": [
    "timeperiod"
   ]
  },
  {
   "cell_type": "code",
   "execution_count": 5,
   "metadata": {},
   "outputs": [
    {
     "data": {
      "text/plain": [
       "[(1.5, ('12:00:00', '13:59:59'))]"
      ]
     },
     "execution_count": 5,
     "metadata": {},
     "output_type": "execute_result"
    }
   ],
   "source": [
    "combinations = list(product(dist_per_grid_list, time_windows))\n",
    "combinations"
   ]
  },
  {
   "cell_type": "code",
   "execution_count": 6,
   "metadata": {},
   "outputs": [],
   "source": [
    "args_list = [(dpg, tw, \n",
    "              df, \n",
    "              timeperiod, training_dates, testing_dates) \n",
    "                    for dpg, tw in combinations]\n",
    "# args_list[0]"
   ]
  },
  {
   "cell_type": "code",
   "execution_count": 114,
   "metadata": {},
   "outputs": [],
   "source": [
    "dpg = dist_per_grid_list[0]\n",
    "tw = time_windows[0]\n"
   ]
  },
  {
   "cell_type": "code",
   "execution_count": 7,
   "metadata": {},
   "outputs": [],
   "source": [
    "\"\"\"Run analysis for a single combination of dist_per_grid and time window.\"\"\"\n",
    "dpg, tw, df, timeperiod, training_dates, testing_dates = args_list[0]\n",
    "\n",
    "# result = TemporalAnalyzer.run_analysis(\n",
    "df=df\n",
    "time_intervals=[tw]\n",
    "dist_per_grid=dpg\n",
    "timeperiod=timeperiod\n",
    "training_dates=training_dates\n",
    "testing_dates=testing_dates\n",
    "max_iter=100\n",
    "tol=5e-4\n",
    "grid_dependent=True\n",
    "penalty=0\n",
    "# )\n",
    "training_dates = [pd.to_datetime(date).date() for date in training_dates]\n",
    "testing_dates = [pd.to_datetime(date).date() for date in testing_dates]\n",
    "all_dates = training_dates + testing_dates\n",
    "# base_df = Preprocessor.preprocess(df, all_dates)\n",
    "start_date='2022-10-17 00:00:00'\n",
    "end_date='2022-10-25 00:00:00'\n",
    "df = df.loc[(df['platform_order_time'] >= start_date) & (df['platform_order_time'] <= end_date)].copy()\n",
    "df['platform_order_time'] = pd.to_datetime(df['platform_order_time'])\n",
    "df['time'] = df['platform_order_time'].dt.time\n",
    "df['date'] = df['platform_order_time'].dt.date\n",
    "dates = [pd.to_datetime(date).date() for date in all_dates]\n",
    "base_df = df.loc[df['date'].isin(dates)]"
   ]
  },
  {
   "cell_type": "code",
   "execution_count": 128,
   "metadata": {},
   "outputs": [
    {
     "data": {
      "text/plain": [
       "[('10:00:00', '11:59:59')]"
      ]
     },
     "execution_count": 128,
     "metadata": {},
     "output_type": "execute_result"
    }
   ],
   "source": [
    "time_intervals"
   ]
  },
  {
   "cell_type": "markdown",
   "metadata": {},
   "source": [
    "Compute assortment for training data"
   ]
  },
  {
   "cell_type": "code",
   "execution_count": 8,
   "metadata": {},
   "outputs": [
    {
     "name": "stdout",
     "output_type": "stream",
     "text": [
      "now compute fixed assortments, for dist_per_grid: 1.5 time_interval: 12:00:00 - 13:59:59\n",
      "Processing time window: 12:00:00 to 13:59:59\n",
      "Completed analysis for dist_per_grid=1.5, time_window=('12:00:00', '13:59:59')\n"
     ]
    }
   ],
   "source": [
    "results = []\n",
    "for win_start, win_end in time_intervals:\n",
    "    win_start = win_start\n",
    "    win_end = win_end\n",
    "print('now compute fixed assortments, for dist_per_grid:', dist_per_grid, 'time_interval:', win_start, '-', win_end)\n",
    "# calculate number of cells\n",
    "base_df_tw, num_total_cells, num_cells_lon, _, _, _, _ = Preprocessor.cut_df(base_df, dist_per_grid, timeperiod)\n",
    "# get assortment matrix\n",
    "# fixed_assortments = Preprocessor.compute_fixed_assortments(base_df_tw, dist_per_grid, num_total_cells)\n",
    "\n",
    "print(f\"Processing time window: {win_start} to {win_end}\")\n",
    "start_time = pd.to_datetime(win_start).time()\n",
    "end_time = pd.to_datetime(win_end).time()\n",
    "win_df_train = base_df_tw[(base_df_tw['date'].isin(training_dates)) & \n",
    "                        (base_df_tw['time'] >= start_time) & \n",
    "                        (base_df_tw['time'] <= end_time)].copy()\n",
    "win_df_train['time_window'] = f\"{win_start}-{win_end}\"\n",
    "\n",
    "train_fixed_assortments = Preprocessor.compute_fixed_assortments(win_df_train, dist_per_grid, num_total_cells)\n",
    "        \n",
    "print(f\"Completed analysis for dist_per_grid={dpg}, time_window={tw}\")"
   ]
  },
  {
   "cell_type": "code",
   "execution_count": 37,
   "metadata": {},
   "outputs": [
    {
     "data": {
      "text/plain": [
       "array([ 40,  70,  62,  84,  49,  92,  52,  63,  69,  64,  83,  75, 105,\n",
       "        17,  82,  48,  47,  71,  50,  74,  27,  73,  80,  51,  60,  61,\n",
       "        59,  65,  91,  81,  37,  15,  39,  94,  18,  95,  86,  38, 104,\n",
       "        41,  16, 103,  72,  29,  36,  93, 102,  56,  87,  28,  89,  57,\n",
       "        85,  54, 106,  31,  14,  58, 115, 114,  79,  42,  46,  25,  19,\n",
       "         4,  26,  13,  53,  67,   6,  97,  90,  35,   7,  68,  34,   5,\n",
       "        76,  24, 108,  30,  78, 113,  98, 101,   8,  44, 116])"
      ]
     },
     "execution_count": 37,
     "metadata": {},
     "output_type": "execute_result"
    }
   ],
   "source": [
    "win_df_train['cust_index'].unique()"
   ]
  },
  {
   "cell_type": "code",
   "execution_count": 38,
   "metadata": {},
   "outputs": [
    {
     "data": {
      "text/plain": [
       "array([ 51,  71,  61,  72,  50,  73,  81,  62,  38,  83,  92,  60,  48,\n",
       "        59,  52,  63,  84,  49,  82,  65,  64,  27,  41,  75,  39,  70,\n",
       "        80,  40, 105,  93,  47,  37,  14,  91,  45,  95, 102,  16,  94,\n",
       "        29,  26,  58,  69, 104,  28,  36,  74,  35,  15,  17, 106,  19])"
      ]
     },
     "execution_count": 38,
     "metadata": {},
     "output_type": "execute_result"
    }
   ],
   "source": [
    "win_df_train['sell_index'].unique()"
   ]
  },
  {
   "cell_type": "code",
   "execution_count": 53,
   "metadata": {},
   "outputs": [
    {
     "data": {
      "text/plain": [
       "array([0., 0., 0., 0., 0., 0., 0., 0., 0., 0., 1., 0., 0., 0., 0., 0., 0.,\n",
       "       0., 0., 0.])"
      ]
     },
     "execution_count": 53,
     "metadata": {},
     "output_type": "execute_result"
    }
   ],
   "source": [
    "train_fixed_assortments[0]"
   ]
  },
  {
   "cell_type": "markdown",
   "metadata": {},
   "source": [
    "# Hourly assortment"
   ]
  },
  {
   "cell_type": "markdown",
   "metadata": {},
   "source": [
    "Estimate Parameters"
   ]
  },
  {
   "cell_type": "code",
   "execution_count": 9,
   "metadata": {},
   "outputs": [],
   "source": [
    "# omega, beta, lambda_hat, dist, p_m = Estimator.estimate_parameters(num_total_cells, num_cells_lon,\n",
    "#                     win_df_train, dist_per_grid, timeperiod, max_iter=max_iter, tol=tol, fixed_assortments = train_fixed_assortments, penalty=penalty)\n",
    "# num_total_cells\n",
    "# num_cells_lon\n",
    "window_df = win_df_train\n",
    "dist_per_grid=dpg\n",
    "timeperiod= timeperiod\n",
    "max_iter=200\n",
    "tol=1e-5\n",
    "fixed_assortments = train_fixed_assortments\n",
    "penalty=0               "
   ]
  },
  {
   "cell_type": "code",
   "execution_count": 10,
   "metadata": {},
   "outputs": [],
   "source": [
    "df_processed, dist = Estimator.pre_process(window_df, num_cells_lon, dist_per_grid, num_total_cells)"
   ]
  },
  {
   "cell_type": "code",
   "execution_count": null,
   "metadata": {},
   "outputs": [],
   "source": [
    "# omega, beta = Estimator.EM(dist_per_grid, df_processed, dist, num_total_cells, fixed_assortments, max_iter=max_iter, \n",
    "#                                    tol=tol, penalty=penalty)\n"
   ]
  },
  {
   "cell_type": "code",
   "execution_count": 11,
   "metadata": {},
   "outputs": [],
   "source": [
    "def objective_beta(beta, cust_idx, sell_idx, omega, p_m, factor, dist, num_total_cells, fixed_assortments, penalty=0):\n",
    "    try:\n",
    "        p = Estimator.compute_p(beta, dist, num_total_cells, fixed_assortments)\n",
    "        log_p_purchase = np.log(p[cust_idx, sell_idx] + 1e-15)\n",
    "        log_p_no_purchase = np.log(p[:, -1] + 1e-15)\n",
    "        p_no_purchase = p[:, -1] + 1e-15\n",
    "        reg = penalty * np.sum(beta**2)\n",
    "        return -(np.sum(log_p_purchase) + factor * np.sum(p_no_purchase * omega * log_p_no_purchase) - reg)\n",
    "    except:\n",
    "        return np.inf"
   ]
  },
  {
   "cell_type": "code",
   "execution_count": 12,
   "metadata": {},
   "outputs": [
    {
     "name": "stdout",
     "output_type": "stream",
     "text": [
      "dist_per_grid: 1.5| iteration: 0 | diff_omega: 0.011301814514326994 | diff_beta: 95402487.9996538\n",
      "Iter 0: Loss 57383.07, Alpha 0.812\n",
      "dist_per_grid: 1.5| iteration: 1 | diff_omega: 0.02509162455020098 | diff_beta: 0.0035177188737850374\n",
      "Iter 1: Loss 56865.72, Alpha 0.801\n",
      "dist_per_grid: 1.5| iteration: 2 | diff_omega: 9.329662379662165e-05 | diff_beta: 0.0036169775756818316\n",
      "Iter 2: Loss 56832.74, Alpha 0.800\n",
      "dist_per_grid: 1.5| iteration: 3 | diff_omega: 4.5696850077447254e-05 | diff_beta: 0.0035073139197576227\n",
      "Iter 3: Loss 56826.84, Alpha 0.800\n",
      "dist_per_grid: 1.5| iteration: 4 | diff_omega: 5.234353577519401e-05 | diff_beta: 0.001536177790924986\n",
      "Iter 4: Loss 56824.49, Alpha 0.800\n",
      "dist_per_grid: 1.5| iteration: 5 | diff_omega: 1.795948298033076e-05 | diff_beta: 0.00020981396615022695\n",
      "Iter 5: Loss 56822.77, Alpha 0.801\n",
      "dist_per_grid: 1.5| iteration: 6 | diff_omega: 8.25658431652214e-06 | diff_beta: 0.00020959307831806338\n",
      "Iter 6: Loss 56822.20, Alpha 0.800\n",
      "dist_per_grid: 1.5| iteration: 7 | diff_omega: 2.6477565915400923e-05 | diff_beta: 0.00032248870939216806\n",
      "Iter 7: Loss 56820.86, Alpha 0.800\n",
      "dist_per_grid: 1.5| iteration: 8 | diff_omega: 3.415259842667797e-05 | diff_beta: 0.00016028992630111384\n",
      "Iter 8: Loss 56819.87, Alpha 0.800\n",
      "dist_per_grid: 1.5| iteration: 9 | diff_omega: 2.36784766284295e-05 | diff_beta: 4.537751939811738e-05\n",
      "Iter 9: Loss 56819.84, Alpha 0.800\n",
      "dist_per_grid: 1.5| iteration: 10 | diff_omega: 7.75314547656579e-06 | diff_beta: 8.810755586418284e-05\n",
      "Iter 10: Loss 56819.55, Alpha 0.800\n",
      "dist_per_grid: 1.5| iteration: 11 | diff_omega: 2.0758664277020604e-05 | diff_beta: 3.4757404097217954e-05\n",
      "Iter 11: Loss 56819.35, Alpha 0.800\n",
      "dist_per_grid: 1.5| iteration: 12 | diff_omega: 1.636165448049183e-05 | diff_beta: 6.963833811802198e-05\n",
      "Iter 12: Loss 56819.10, Alpha 0.800\n",
      "dist_per_grid: 1.5| iteration: 13 | diff_omega: 1.865536025390073e-05 | diff_beta: 2.635352661038156e-05\n",
      "Iter 13: Loss 56818.95, Alpha 0.800\n",
      "dist_per_grid: 1.5| iteration: 14 | diff_omega: 2.1875443723810492e-05 | diff_beta: 5.4490898081625135e-05\n",
      "Iter 14: Loss 56818.76, Alpha 0.800\n",
      "dist_per_grid: 1.5| iteration: 15 | diff_omega: 1.2639991277473353e-05 | diff_beta: 3.386597487392703e-05\n",
      "Iter 15: Loss 56818.60, Alpha 0.800\n",
      "dist_per_grid: 1.5| iteration: 16 | diff_omega: 1.790093173006501e-05 | diff_beta: 3.532814173464628e-06\n",
      "Iter 16: Loss 56818.52, Alpha 0.800\n",
      "dist_per_grid: 1.5| iteration: 17 | diff_omega: 1.5907410019062006e-05 | diff_beta: 7.194653528063424e-08\n",
      "Iter 17: Loss 56818.43, Alpha 0.800\n",
      "dist_per_grid: 1.5| iteration: 18 | diff_omega: 1.4901292899996248e-05 | diff_beta: 4.6518833899714635e-08\n",
      "Iter 18: Loss 56818.35, Alpha 0.800\n",
      "dist_per_grid: 1.5| iteration: 19 | diff_omega: 1.404088776015347e-05 | diff_beta: 5.399465080926552e-08\n",
      "Iter 19: Loss 56818.27, Alpha 0.800\n",
      "dist_per_grid: 1.5| iteration: 20 | diff_omega: 1.3160442442299719e-05 | diff_beta: 5.8591173544598646e-08\n",
      "Iter 20: Loss 56818.20, Alpha 0.800\n",
      "dist_per_grid: 1.5| iteration: 21 | diff_omega: 1.2413140657559565e-05 | diff_beta: 6.935740088546107e-08\n",
      "Iter 21: Loss 56818.13, Alpha 0.800\n",
      "dist_per_grid: 1.5| iteration: 22 | diff_omega: 1.1623220155421339e-05 | diff_beta: 7.386117698293108e-08\n",
      "Iter 22: Loss 56818.06, Alpha 0.800\n",
      "dist_per_grid: 1.5| iteration: 23 | diff_omega: 1.0979451862179988e-05 | diff_beta: 1.9493538811046802e-07\n",
      "Iter 23: Loss 56817.99, Alpha 0.800\n",
      "dist_per_grid: 1.5| iteration: 24 | diff_omega: 1.0451349699805434e-05 | diff_beta: 5.1970009831276905e-08\n",
      "Iter 24: Loss 56817.93, Alpha 0.800\n",
      "dist_per_grid: 1.5| iteration: 25 | diff_omega: 9.83709918381346e-06 | diff_beta: 4.263862440872671e-08\n",
      "Converged at iteration 25\n"
     ]
    }
   ],
   "source": [
    "df = df_processed.copy()\n",
    "N = len(df)\n",
    "omega = np.ones(num_total_cells) / num_total_cells\n",
    "beta = np.zeros(1 + num_total_cells + num_total_cells)\n",
    "beta[0] = 10\n",
    "beta[1:1 + num_total_cells] = 0\n",
    "beta[1 + num_total_cells:] = 0\n",
    "\n",
    "for iteration in range(max_iter):\n",
    "    p_m = Estimator.compute_p(beta, dist, num_total_cells, fixed_assortments)\n",
    "    sum_p_no_purchase = (omega * p_m[:, -1]).sum()\n",
    "    if (1 - sum_p_no_purchase) < 1e-6:\n",
    "        break\n",
    "    factor = N / (1 - sum_p_no_purchase)\n",
    "    c = np.array([(df['cust_index'] == i ).sum() + factor * omega[i] * p_m[i, -1] \n",
    "                    for i in range(num_total_cells)])\n",
    "    omega_new = c / (c.sum())\n",
    "    res = minimize(\n",
    "        objective_beta, beta,\n",
    "        args=(df['cust_index'].values, df['sell_index'].values, omega, p_m, factor, dist, \n",
    "                num_total_cells, fixed_assortments, penalty),\n",
    "        method='L-BFGS-B',\n",
    "        bounds=[(0, None)] + [(None, None)] * num_total_cells + [(None, None)] * num_total_cells\n",
    "    )\n",
    "    beta_new = res.x\n",
    "    rate_change_beta = np.max(np.abs(beta_new - beta) / (1000 * (beta + 1e-10)))\n",
    "    print(f'dist_per_grid: {dist_per_grid}| iteration: {iteration} | diff_omega: {np.max(np.abs(omega_new - omega))} | diff_beta: {rate_change_beta}')\n",
    "    if (np.max(np.abs(omega_new - omega)) < tol) and (rate_change_beta < tol):\n",
    "        print(f\"Converged at iteration {iteration}\")\n",
    "        break\n",
    "    omega, beta = omega_new, beta_new\n",
    "    print(f\"Iter {iteration}: Loss {res.fun:.2f}, Alpha {beta[0]:.3f}\")\n"
   ]
  },
  {
   "cell_type": "code",
   "execution_count": 13,
   "metadata": {},
   "outputs": [],
   "source": [
    "p_m = Estimator.compute_p(beta, dist, num_total_cells, fixed_assortments)\n",
    "T_train = df_processed['time_index'].nunique()\n",
    "sum_over_l_b = (omega[:, None] * p_m[:, :-1]).sum()\n",
    "d_eval = df_processed['date'].nunique()\n",
    "lambda_hat = len(df_processed) / (d_eval * T_train * sum_over_l_b) if T_train * sum_over_l_b != 0 else 0\n"
   ]
  },
  {
   "cell_type": "code",
   "execution_count": 14,
   "metadata": {},
   "outputs": [
    {
     "data": {
      "text/plain": [
       "6589.331238652052"
      ]
     },
     "execution_count": 14,
     "metadata": {},
     "output_type": "execute_result"
    }
   ],
   "source": [
    "lambda_hat"
   ]
  },
  {
   "cell_type": "code",
   "execution_count": 61,
   "metadata": {},
   "outputs": [
    {
     "data": {
      "text/plain": [
       "array([0., 0., 0., 0., 0., 0., 0., 0., 0., 0., 0., 0., 0., 0., 0., 0., 0.,\n",
       "       0., 0., 0., 0., 0., 0., 0., 0., 0., 0., 0., 0., 0., 0., 0., 0., 0.,\n",
       "       0., 0., 0., 0., 0., 0., 0., 0., 0., 0., 0., 0., 0., 0., 0., 0., 0.,\n",
       "       0., 0., 0., 0., 0., 0., 0., 0., 0., 0., 0., 0., 0., 0., 0., 0., 0.,\n",
       "       0., 0., 0., 0., 0., 0., 0., 0., 0., 0., 0., 0., 0., 0., 0., 0., 0.,\n",
       "       0., 0., 0., 0., 0., 0., 0., 0., 0., 0., 0., 0., 0., 0., 0., 0., 0.,\n",
       "       0., 0., 0., 0., 0., 0., 0., 0., 0., 0., 0., 0., 0., 0., 0., 0., 0.,\n",
       "       0., 0.])"
      ]
     },
     "execution_count": 61,
     "metadata": {},
     "output_type": "execute_result"
    }
   ],
   "source": [
    "p_m[:, 22]"
   ]
  },
  {
   "cell_type": "code",
   "execution_count": 162,
   "metadata": {},
   "outputs": [
    {
     "name": "stderr",
     "output_type": "stream",
     "text": [
      "<>:1: SyntaxWarning: 'generator' object is not subscriptable; perhaps you missed a comma?\n",
      "<>:1: SyntaxWarning: 'generator' object is not subscriptable; perhaps you missed a comma?\n",
      "/tmp/ipykernel_1486959/2148539055.py:1: SyntaxWarning: 'generator' object is not subscriptable; perhaps you missed a comma?\n",
      "  (p_m[:,c].sum() for c in range(num_total_cells))[0]\n"
     ]
    },
    {
     "ename": "TypeError",
     "evalue": "'generator' object is not subscriptable",
     "output_type": "error",
     "traceback": [
      "\u001b[0;31m---------------------------------------------------------------------------\u001b[0m",
      "\u001b[0;31mTypeError\u001b[0m                                 Traceback (most recent call last)",
      "\u001b[0;32m/tmp/ipykernel_1486959/2148539055.py\u001b[0m in \u001b[0;36m<module>\u001b[0;34m\u001b[0m\n\u001b[0;32m----> 1\u001b[0;31m \u001b[0;34m(\u001b[0m\u001b[0mp_m\u001b[0m\u001b[0;34m[\u001b[0m\u001b[0;34m:\u001b[0m\u001b[0;34m,\u001b[0m\u001b[0mc\u001b[0m\u001b[0;34m]\u001b[0m\u001b[0;34m.\u001b[0m\u001b[0msum\u001b[0m\u001b[0;34m(\u001b[0m\u001b[0;34m)\u001b[0m \u001b[0;32mfor\u001b[0m \u001b[0mc\u001b[0m \u001b[0;32min\u001b[0m \u001b[0mrange\u001b[0m\u001b[0;34m(\u001b[0m\u001b[0mnum_total_cells\u001b[0m\u001b[0;34m)\u001b[0m\u001b[0;34m)\u001b[0m\u001b[0;34m[\u001b[0m\u001b[0;36m0\u001b[0m\u001b[0;34m]\u001b[0m\u001b[0;34m\u001b[0m\u001b[0;34m\u001b[0m\u001b[0m\n\u001b[0m",
      "\u001b[0;31mTypeError\u001b[0m: 'generator' object is not subscriptable"
     ]
    }
   ],
   "source": [
    "(p_m[:,c].sum() for c in range(num_total_cells))"
   ]
  },
  {
   "cell_type": "code",
   "execution_count": 62,
   "metadata": {},
   "outputs": [
    {
     "data": {
      "text/plain": [
       "array([0., 0., 0., 0., 0., 0., 0., 0., 0., 0., 0., 0., 0., 0., 0., 0., 0.,\n",
       "       0., 0., 0., 0., 0., 0., 0., 0., 0., 0., 0., 0., 0., 0., 0., 0., 0.,\n",
       "       0., 0., 0., 0., 0., 0., 0., 0., 0., 0., 0., 0., 0., 0., 0., 0., 0.,\n",
       "       0., 0., 0., 0., 0., 0., 0., 0., 0., 0., 0., 0., 0., 0., 0., 0., 0.,\n",
       "       0., 0., 0., 0., 0., 0., 0., 0., 0., 0., 0., 0., 0., 0., 0., 0., 0.,\n",
       "       0., 0., 0., 0., 0., 0., 0., 0., 0., 0., 0., 0., 0., 0., 0., 0., 0.,\n",
       "       0., 0., 0., 0., 0., 0., 0., 0., 0., 0., 0., 0., 0., 0., 0., 0., 0.,\n",
       "       0., 0.])"
      ]
     },
     "execution_count": 62,
     "metadata": {},
     "output_type": "execute_result"
    }
   ],
   "source": [
    "p_m[:,22]# sum of probability who choose cell 22"
   ]
  },
  {
   "cell_type": "code",
   "execution_count": 63,
   "metadata": {},
   "outputs": [
    {
     "data": {
      "text/plain": [
       "array([0., 0., 0., 0., 0., 0., 0., 0., 0., 0., 0., 0., 0., 0., 0., 0., 0.,\n",
       "       0., 0., 0., 0., 0., 0., 0., 0., 0., 0., 0., 0., 0., 0., 0., 0., 0.,\n",
       "       0., 0., 0., 0., 0., 0., 0., 0., 0., 0., 0., 0., 0., 0., 0., 0., 0.,\n",
       "       0., 0., 0., 0., 0., 0., 0., 0., 0., 0., 0., 0., 0., 0., 0., 0., 0.,\n",
       "       0., 0., 0., 0., 0., 0., 0., 0., 0., 0., 0., 0., 0., 0., 0., 0., 0.,\n",
       "       0., 0., 0., 0., 0., 0., 0., 0., 0., 0., 0., 0., 0., 0., 0., 0., 0.,\n",
       "       0., 0., 0., 0., 0., 0., 0., 0., 0., 0., 0., 0., 0., 0., 0., 0., 0.,\n",
       "       0., 0., 1.])"
      ]
     },
     "execution_count": 63,
     "metadata": {},
     "output_type": "execute_result"
    }
   ],
   "source": [
    "p_m[0]  # sum of probability who choose no purchase"
   ]
  },
  {
   "cell_type": "code",
   "execution_count": 172,
   "metadata": {},
   "outputs": [
    {
     "data": {
      "text/plain": [
       "(272,)"
      ]
     },
     "execution_count": 172,
     "metadata": {},
     "output_type": "execute_result"
    }
   ],
   "source": [
    "omega.shape"
   ]
  },
  {
   "cell_type": "code",
   "execution_count": 174,
   "metadata": {},
   "outputs": [
    {
     "data": {
      "text/plain": [
       "272"
      ]
     },
     "execution_count": 174,
     "metadata": {},
     "output_type": "execute_result"
    }
   ],
   "source": [
    "len([(p_m[:,c]).sum() for c in range(num_total_cells)])"
   ]
  },
  {
   "cell_type": "code",
   "execution_count": 175,
   "metadata": {},
   "outputs": [
    {
     "data": {
      "text/plain": [
       "[0.0,\n",
       " 0.0,\n",
       " 0.0,\n",
       " 0.0,\n",
       " 0.0,\n",
       " 0.0,\n",
       " 0.0,\n",
       " 0.0,\n",
       " 0.0,\n",
       " 0.0,\n",
       " 0.0,\n",
       " 0.0,\n",
       " 0.0,\n",
       " 0.0,\n",
       " 0.0,\n",
       " 0.0,\n",
       " 0.0,\n",
       " 0.0,\n",
       " 0.0,\n",
       " 0.0,\n",
       " 0.0,\n",
       " 0.0,\n",
       " 5.927956733061163e-08,\n",
       " 0.0,\n",
       " 2.631011121234967e-07,\n",
       " 4.18930119370927e-08,\n",
       " 0.0,\n",
       " 0.0,\n",
       " 0.0,\n",
       " 0.0,\n",
       " 0.0,\n",
       " 0.0,\n",
       " 0.0,\n",
       " 0.0,\n",
       " 0.0,\n",
       " 0.0,\n",
       " 0.0,\n",
       " 5.621562679216174e-07,\n",
       " 3.8612427621400205e-07,\n",
       " 3.248358287386744e-07,\n",
       " 7.222339655745682e-08,\n",
       " 5.4801754563511245e-08,\n",
       " 5.390471056459513e-08,\n",
       " 0.0,\n",
       " 1.9620464795396527e-08,\n",
       " 0.0,\n",
       " 0.0,\n",
       " 0.0,\n",
       " 0.0,\n",
       " 0.0,\n",
       " 0.0,\n",
       " 0.0,\n",
       " 0.0,\n",
       " 0.0,\n",
       " 0.0,\n",
       " 1.8437338788445172e-07,\n",
       " 4.704740159021869e-07,\n",
       " 5.563460976799247e-07,\n",
       " 6.282802344143776e-08,\n",
       " 4.887736419783454e-08,\n",
       " 0.0,\n",
       " 0.0,\n",
       " 0.0,\n",
       " 0.0,\n",
       " 0.0,\n",
       " 0.0,\n",
       " 0.0,\n",
       " 0.0,\n",
       " 0.0,\n",
       " 0.0,\n",
       " 0.0,\n",
       " 4.589896037160468e-06,\n",
       " 2.013945606782034e-06,\n",
       " 9.094937592621696e-07,\n",
       " 3.298978676172819e-05,\n",
       " 0.0,\n",
       " 2.530612732715542e-08,\n",
       " 4.086733977803055e-08,\n",
       " 0.0,\n",
       " 0.0,\n",
       " 0.0,\n",
       " 0.0,\n",
       " 5.338161646157394e-08,\n",
       " 4.49196643236953e-08,\n",
       " 1.9434885835280908e-07,\n",
       " 3.868960693315665e-06,\n",
       " 4.704451614215787e-06,\n",
       " 3.9560614979716796e-05,\n",
       " 0.0021251229587514095,\n",
       " 0.003908846662686764,\n",
       " 0.0013951182146979468,\n",
       " 1.4803522667203864e-06,\n",
       " 0.0001061257323419438,\n",
       " 4.862228752848841e-08,\n",
       " 0.0,\n",
       " 0.0,\n",
       " 0.0,\n",
       " 0.0,\n",
       " 0.0,\n",
       " 0.0,\n",
       " 1.8245099517007117e-07,\n",
       " 3.5249108429487485e-06,\n",
       " 1.6702841581069228e-05,\n",
       " 2.0865284596274974e-05,\n",
       " 0.053967648059138174,\n",
       " 0.06756032893834098,\n",
       " 0.007244362427708965,\n",
       " 3.941973191715216e-06,\n",
       " 1.6003472320076705e-07,\n",
       " 0.0,\n",
       " 0.0,\n",
       " 0.0,\n",
       " 0.0,\n",
       " 0.0,\n",
       " 4.588184260590324e-08,\n",
       " 2.8743281331399498e-08,\n",
       " 5.618085273067783e-08,\n",
       " 5.543711872369696e-06,\n",
       " 0.007140481886201212,\n",
       " 0.02040614136901606,\n",
       " 0.05563486366888609,\n",
       " 0.07698530570112411,\n",
       " 0.045526357501808855,\n",
       " 0.018508245149090316,\n",
       " 3.3524160180128585e-06,\n",
       " 4.058215016828683e-07,\n",
       " 0.0,\n",
       " 3.1544332895850775e-07,\n",
       " 0.0,\n",
       " 0.0,\n",
       " 0.0,\n",
       " 0.0,\n",
       " 1.6646381758817674e-07,\n",
       " 1.5028045548780992e-06,\n",
       " 4.759196266573902e-05,\n",
       " 0.0010786940734563936,\n",
       " 1.6969259804529162e-06,\n",
       " 0.1626906862383015,\n",
       " 0.02478425984779451,\n",
       " 0.0071332955119304065,\n",
       " 1.2094153175861153e-05,\n",
       " 4.8332369934310626e-05,\n",
       " 8.630605410662662e-05,\n",
       " 1.5969468060490027e-07,\n",
       " 0.0,\n",
       " 0.0,\n",
       " 0.0,\n",
       " 0.0,\n",
       " 1.0163084557348469e-07,\n",
       " 1.6179916230369283e-05,\n",
       " 0.008573126141382444,\n",
       " 0.019429856422326346,\n",
       " 0.006392747158855594,\n",
       " 0.03873544136283031,\n",
       " 0.025770039957804483,\n",
       " 0.0001351807152532445,\n",
       " 0.0,\n",
       " 1.361361955308116e-05,\n",
       " 4.749139063856794e-07,\n",
       " 1.9792932809050374e-08,\n",
       " 0.0,\n",
       " 0.0,\n",
       " 0.0,\n",
       " 0.0,\n",
       " 0.0,\n",
       " 9.841688827534133e-06,\n",
       " 3.3150563730316116e-05,\n",
       " 0.03279127605913821,\n",
       " 0.020305435064840276,\n",
       " 0.018219671228320588,\n",
       " 0.0034712015075370607,\n",
       " 4.632863001181218e-08,\n",
       " 0.0,\n",
       " 1.7283604526966974e-08,\n",
       " 0.0,\n",
       " 0.0,\n",
       " 0.0,\n",
       " 0.0,\n",
       " 0.0,\n",
       " 0.0,\n",
       " 0.0,\n",
       " 0.0013659206657433607,\n",
       " 1.0472139599200205e-05,\n",
       " 5.972927124719922e-06,\n",
       " 0.006592706292165693,\n",
       " 0.003863908508499543,\n",
       " 0.0006360527738464018,\n",
       " 4.454920246388672e-08,\n",
       " 0.0,\n",
       " 4.203536576740201e-08,\n",
       " 0.0,\n",
       " 0.0,\n",
       " 0.0,\n",
       " 0.0,\n",
       " 0.0,\n",
       " 0.0,\n",
       " 0.0,\n",
       " 8.744870361483976e-06,\n",
       " 1.2982222500947423e-06,\n",
       " 2.5397381478526345e-07,\n",
       " 1.5867649924507656e-07,\n",
       " 1.612802538664071e-06,\n",
       " 5.5944514262385224e-08,\n",
       " 0.0,\n",
       " 0.0,\n",
       " 0.0,\n",
       " 0.0,\n",
       " 0.0,\n",
       " 0.0,\n",
       " 0.0,\n",
       " 0.0,\n",
       " 0.0,\n",
       " 0.0,\n",
       " 1.8714152345229075e-07,\n",
       " 1.1601257287939871e-05,\n",
       " 1.9407812908803593e-06,\n",
       " 5.025773947998932e-07,\n",
       " 1.2508783222169564e-07,\n",
       " 3.1141188917124084e-08,\n",
       " 3.217258609163614e-08,\n",
       " 0.0,\n",
       " 0.0,\n",
       " 0.0,\n",
       " 0.0,\n",
       " 0.0,\n",
       " 0.0,\n",
       " 0.0,\n",
       " 0.0,\n",
       " 0.0,\n",
       " 1.964433805026805e-07,\n",
       " 7.007494289366402e-08,\n",
       " 0.0,\n",
       " 0.0,\n",
       " 0.0,\n",
       " 0.0,\n",
       " 3.789798034216222e-08,\n",
       " 0.0,\n",
       " 0.0,\n",
       " 0.0,\n",
       " 0.0,\n",
       " 0.0,\n",
       " 0.0,\n",
       " 0.0,\n",
       " 0.0,\n",
       " 0.0,\n",
       " 0.0,\n",
       " 0.0,\n",
       " 0.0,\n",
       " 0.0,\n",
       " 0.0,\n",
       " 0.0,\n",
       " 0.0,\n",
       " 0.0,\n",
       " 0.0,\n",
       " 0.0,\n",
       " 0.0,\n",
       " 0.0,\n",
       " 0.0,\n",
       " 0.0,\n",
       " 0.0,\n",
       " 0.0,\n",
       " 0.0,\n",
       " 0.0,\n",
       " 0.0,\n",
       " 0.0,\n",
       " 0.0,\n",
       " 0.0,\n",
       " 0.0,\n",
       " 0.0,\n",
       " 0.0,\n",
       " 0.0,\n",
       " 0.0]"
      ]
     },
     "execution_count": 175,
     "metadata": {},
     "output_type": "execute_result"
    }
   ],
   "source": [
    "[(p_m[:,c]).sum() for c in range(num_total_cells)]"
   ]
  },
  {
   "cell_type": "code",
   "execution_count": 166,
   "metadata": {},
   "outputs": [],
   "source": [
    "N_hat = np.array([lambda_hat * omega * (p_m[:,c]).sum() for c in range(num_total_cells)])\n"
   ]
  },
  {
   "cell_type": "code",
   "execution_count": 91,
   "metadata": {},
   "outputs": [
    {
     "name": "stdout",
     "output_type": "stream",
     "text": [
      "Number of orders made by customer 6: 722\n"
     ]
    }
   ],
   "source": [
    "# count how many orders made in cust_index = 15\n",
    "cust_index = 0\n",
    "orders_count = win_df_train[win_df_train['cust_index'] == cust_index].shape[0]\n",
    "print(f\"Number of orders made by customer {cust_index}: {orders_count}\")"
   ]
  },
  {
   "cell_type": "code",
   "execution_count": 92,
   "metadata": {},
   "outputs": [
    {
     "data": {
      "text/plain": [
       "array([ 6, 10,  5,  7,  9, 11,  2,  1])"
      ]
     },
     "execution_count": 92,
     "metadata": {},
     "output_type": "execute_result"
    }
   ],
   "source": [
    "win_df_train[win_df_train['cust_index'] == cust_index]['sell_index'].unique()"
   ]
  },
  {
   "cell_type": "code",
   "execution_count": 93,
   "metadata": {},
   "outputs": [
    {
     "data": {
      "text/plain": [
       "array([0., 1., 1., 0., 0., 1., 1., 0., 0., 1., 1., 0., 0., 0., 0., 0., 0.,\n",
       "       0., 0., 0.])"
      ]
     },
     "execution_count": 93,
     "metadata": {},
     "output_type": "execute_result"
    }
   ],
   "source": [
    "train_fixed_assortments[1]"
   ]
  },
  {
   "cell_type": "code",
   "execution_count": 96,
   "metadata": {},
   "outputs": [
    {
     "data": {
      "text/plain": [
       "715530712.7775792"
      ]
     },
     "execution_count": 96,
     "metadata": {},
     "output_type": "execute_result"
    }
   ],
   "source": [
    "lambda_hat"
   ]
  },
  {
   "cell_type": "code",
   "execution_count": 151,
   "metadata": {},
   "outputs": [
    {
     "data": {
      "text/plain": [
       "array([0., 0., 0., 0., 0., 0., 0., 0., 0., 0., 0., 0., 0., 0., 0., 0., 0.,\n",
       "       0., 0., 0., 0., 0., 0., 0., 0., 0., 0., 0., 0., 0., 0., 0., 0., 0.,\n",
       "       0., 0., 0., 0., 0., 0., 0., 0., 0., 0., 0., 0., 0., 0., 0., 0., 0.,\n",
       "       0., 0., 0., 0., 0., 0., 0., 0., 0., 0., 0., 0., 0., 0., 0., 0., 0.,\n",
       "       0., 0., 0., 0., 0., 0., 0., 0., 0., 0., 0., 0., 0., 0., 0., 0., 0.,\n",
       "       0., 0., 0., 0., 0., 0., 0., 0., 0., 0., 0., 0., 0., 0., 0., 0., 0.,\n",
       "       0., 0., 0., 0., 0., 0., 0., 0., 0., 0., 0., 0., 0., 0., 0., 0., 0.,\n",
       "       0., 0., 0., 0., 0., 0., 0., 0., 0., 0., 0., 0., 0., 0., 0., 0., 0.,\n",
       "       0., 0., 0., 0., 0., 0., 0., 0., 0., 0., 0., 0., 0., 0., 0., 0., 0.,\n",
       "       0., 0., 0., 0., 0., 0., 0., 0., 0., 0., 0., 0., 0., 0., 0., 0., 0.,\n",
       "       0., 0., 0., 0., 0., 0., 0., 0., 0., 0., 0., 0., 0., 0., 0., 0., 0.,\n",
       "       0., 0., 0., 0., 0., 0., 0., 0., 0., 0., 0., 0., 0., 0., 0., 0., 0.,\n",
       "       0., 0., 0., 0., 0., 0., 0., 0., 0., 0., 0., 0., 0., 0., 0., 0., 0.,\n",
       "       0., 0., 0., 0., 0., 0., 0., 0., 0., 0., 0., 0., 0., 0., 0., 0., 0.,\n",
       "       0., 0., 0., 0., 0., 0., 0., 0., 0., 0., 0., 0., 0., 0., 0., 0., 0.,\n",
       "       0., 0., 0., 0., 0., 0., 0., 0., 0., 0., 0., 0., 0., 0., 0., 0., 0.,\n",
       "       1.])"
      ]
     },
     "execution_count": 151,
     "metadata": {},
     "output_type": "execute_result"
    }
   ],
   "source": [
    "p_m[0]"
   ]
  },
  {
   "cell_type": "code",
   "execution_count": 15,
   "metadata": {},
   "outputs": [],
   "source": [
    "def calculate_wmape(extra_assortment, p_m, omega, beta, lambda_hat, dist, eval_df, dist_per_grid, timeperiod):\n",
    "    eval_df, num_total_cells, _, _, _, _, _ = Preprocessor.cut_df(eval_df, dist_per_grid, timeperiod)\n",
    "    T_eval = eval_df['time_index'].nunique()\n",
    "    \n",
    "    # if extra_assortment == True:\n",
    "    # special note:\n",
    "    p_m = Estimator.compute_p(beta, dist, num_total_cells, extra_assortment)\n",
    "\n",
    "    # Calculate actual o_ij\n",
    "    o_ij_actual = np.zeros((num_total_cells, num_total_cells))\n",
    "    for _, row in eval_df.iterrows(): # \n",
    "        i = row['cust_index']  # Adjust to 0-based index\n",
    "        j = row['sell_index']  # Adjust to 0-based index\n",
    "        # calculate choose probability for each i, j\n",
    "        o_ij_actual[i, j] += 1\n",
    "    # pdb.set_trace()\n",
    "    # o_ij_actual = o_ij_actual / o_ij_actual.sum(axis=1, keepdims=True) if o_ij_actual.sum(axis=1, keepdims=True) > 0 else 0\n",
    "\n",
    "    # Calculate predicted o_ij\n",
    "    o_ij_hat = np.zeros((num_total_cells, num_total_cells))\n",
    "    for i in range(num_total_cells):\n",
    "        for j in range(num_total_cells):\n",
    "            # calculate choose probability for each i, j\n",
    "            o_ij_hat[i, j] = lambda_hat * T_eval * omega[i] * p_m[i, j]\n",
    "        # normalize each row to sum to 1\n",
    "        o_ij_actual[i, :] = o_ij_actual[i, :] / o_ij_actual[i, :].sum() if o_ij_actual[i, :].sum() > 0 else 0\n",
    "        o_ij_hat[i, :] = o_ij_hat[i, :] / o_ij_hat[i, :].sum() if o_ij_hat[i, :].sum() > 0 else 0\n",
    "\n",
    "    # pdb.set_trace()\n",
    "    # o_ij_hat = o_ij_hat / o_ij_hat.sum(axis=1, keepdims=True) if o_ij_hat.sum(axis=1, keepdims=True) > 0 else 0\n",
    "\n",
    "    # Calculate relative error for each i, j where o_ij > 0\n",
    "    # relative_errors = []\n",
    "    # for i in range(num_total_cells):\n",
    "    #     for j in range(num_total_cells):\n",
    "    #         # if o_ij_actual[i, j] > 0:\n",
    "    #         error = abs(o_ij_hat[i, j] - o_ij_actual[i, j]) / (o_ij_actual[i, j] + 1e-6) * 100\n",
    "    #         relative_errors.append(error)\n",
    "    \n",
    "    # flatten the arrays to 1D\n",
    "    o_ij_actual = o_ij_actual.flatten()\n",
    "    o_ij_hat = o_ij_hat.flatten()\n",
    "\n",
    "    # Calculate relative errors, only division by o_ij_actual where o_ij_actual > 0\n",
    "    # relative_errors = np.where(o_ij_actual > 0, (np.abs(o_ij_actual - o_ij_hat) / o_ij_actual) * 100, 0)\n",
    "    # turn off the error report for division by zero\n",
    "    # relative_errors = np.where(o_ij_actual > 0, (np.abs(o_ij_actual - o_ij_hat) / o_ij_actual) * 100, 0)\n",
    "    \n",
    "    relative_errors = np.abs(o_ij_actual - o_ij_hat)\n",
    "\n",
    "    # remove inf values from relative_errors away\n",
    "    relative_errors = relative_errors[~np.isinf(relative_errors) & ~np.isnan(relative_errors)]  # remove inf values\n",
    "    # print(f'Relative errors: {relative_errors}')\n",
    "    # relative_errors = (np.abs(o_ij_actual - o_ij_hat) / o_ij_actual) * 100  if o_ij_actual > 0 else 0\n",
    "\n",
    "\n",
    "    # Calculate WMAPE as before\n",
    "    N_hat = np.array([lambda_hat * T_eval * (omega * p_m[:, c]).sum() for c in range(num_total_cells)])\n",
    "    N_actual = np.zeros(num_total_cells)\n",
    "    for i in range(num_total_cells):\n",
    "        N_actual[i] = len(eval_df[(eval_df['sell_index'] == i)])\n",
    "    wmape = (np.abs(N_actual - N_hat).sum() / N_actual.sum()) * 100 if N_actual.sum() > 0 else 0 # shape: \n",
    "    # print(f'N_hat: {N_hat} | N_actual: {N_actual}\\nT_eval: {T_eval} | wmape: {wmape}')\n",
    "    \n",
    "    return wmape, relative_errors"
   ]
  },
  {
   "cell_type": "code",
   "execution_count": 18,
   "metadata": {},
   "outputs": [],
   "source": [
    "T_eval = win_df_test['time_index'].nunique()\n",
    "N_hat = np.array([lambda_hat * T_eval * (omega * p_m[:, c]).sum() for c in range(num_total_cells)])"
   ]
  },
  {
   "cell_type": "code",
   "execution_count": 19,
   "metadata": {},
   "outputs": [],
   "source": [
    "N_actual = np.zeros(num_total_cells)\n",
    "for i in range(num_total_cells):\n",
    "    N_actual[i] = len(win_df_test[(win_df_test['sell_index'] == i)])"
   ]
  },
  {
   "cell_type": "code",
   "execution_count": 20,
   "metadata": {},
   "outputs": [
    {
     "data": {
      "text/plain": [
       "8.707020328526713"
      ]
     },
     "execution_count": 20,
     "metadata": {},
     "output_type": "execute_result"
    }
   ],
   "source": [
    "(np.abs(N_actual - N_hat).sum() / N_actual.sum()) * 100 if N_actual.sum() > 0 else 0"
   ]
  },
  {
   "cell_type": "code",
   "execution_count": 26,
   "metadata": {},
   "outputs": [
    {
     "data": {
      "text/plain": [
       "6589.331238652052"
      ]
     },
     "execution_count": 26,
     "metadata": {},
     "output_type": "execute_result"
    }
   ],
   "source": [
    "lambda_hat"
   ]
  },
  {
   "cell_type": "code",
   "execution_count": 22,
   "metadata": {},
   "outputs": [
    {
     "data": {
      "text/plain": [
       "9281.0"
      ]
     },
     "execution_count": 22,
     "metadata": {},
     "output_type": "execute_result"
    }
   ],
   "source": [
    "sum(N_actual)"
   ]
  },
  {
   "cell_type": "code",
   "execution_count": 31,
   "metadata": {},
   "outputs": [],
   "source": [
    "# for non-zero N_actual\n",
    "non_zero_indices = N_actual > 0\n",
    "N_hat_non_zero = N_hat[non_zero_indices]\n",
    "N_actual_non_zero = N_actual[non_zero_indices]\n",
    "error = np.abs(N_actual_non_zero - N_hat_non_zero) / N_actual_non_zero * 100"
   ]
  },
  {
   "cell_type": "code",
   "execution_count": 35,
   "metadata": {},
   "outputs": [
    {
     "data": {
      "text/plain": [
       "23.725304465405088"
      ]
     },
     "execution_count": 35,
     "metadata": {},
     "output_type": "execute_result"
    }
   ],
   "source": [
    "np.mean(error)"
   ]
  },
  {
   "cell_type": "code",
   "execution_count": 33,
   "metadata": {},
   "outputs": [
    {
     "data": {
      "text/plain": [
       "[<matplotlib.lines.Line2D at 0x7f4d7e20f1f0>]"
      ]
     },
     "execution_count": 33,
     "metadata": {},
     "output_type": "execute_result"
    },
    {
     "data": {
      "image/png": "[encoded data removed]",
      "text/plain": [
       "<Figure size 640x480 with 1 Axes>"
      ]
     },
     "metadata": {},
     "output_type": "display_data"
    }
   ],
   "source": [
    "plt.plot(error, marker='o', linestyle='-', color='b')"
   ]
  },
  {
   "cell_type": "code",
   "execution_count": 29,
   "metadata": {},
   "outputs": [
    {
     "data": {
      "text/plain": [
       "0.06389397694214005"
      ]
     },
     "execution_count": 29,
     "metadata": {},
     "output_type": "execute_result"
    }
   ],
   "source": [
    "(sum(N_actual) -sum(N_hat)) / sum(N_actual)"
   ]
  },
  {
   "cell_type": "code",
   "execution_count": 21,
   "metadata": {},
   "outputs": [
    {
     "data": {
      "text/plain": [
       "8687.999999999998"
      ]
     },
     "execution_count": 21,
     "metadata": {},
     "output_type": "execute_result"
    }
   ],
   "source": [
    "sum(N_hat)"
   ]
  },
  {
   "cell_type": "code",
   "execution_count": null,
   "metadata": {},
   "outputs": [],
   "source": []
  },
  {
   "cell_type": "code",
   "execution_count": 17,
   "metadata": {},
   "outputs": [],
   "source": [
    "win_df_test = base_df_tw[(base_df_tw['date'].isin(testing_dates)) & \n",
    "                    (base_df_tw['time'] >= start_time) & \n",
    "                    (base_df_tw['time'] <= end_time)].copy()\n",
    "win_df_test['time_window'] = f\"{win_start}-{win_end}\"\n",
    "\n",
    "\n",
    "# calculate the ratio of overlap \n",
    "\n",
    "out_sample_wmapes = {}\n",
    "out_sample_relative_errors = []\n",
    "out_sample_assort_ratio = {}\n",
    "for test_date in testing_dates:\n",
    "    win_df_test = base_df_tw[(base_df_tw['date'] == test_date) & \n",
    "                            (base_df_tw['time'] >= start_time) & \n",
    "                            (base_df_tw['time'] <= end_time)].copy()\n",
    "    test_fixed_assortments = Preprocessor.compute_fixed_assortments(win_df_test, dist_per_grid, num_total_cells)\n",
    "    if len(win_df_test) > 0:\n",
    "        out_sample_wmape, relative_errors = calculate_wmape(\n",
    "            test_fixed_assortments,\n",
    "            p_m, omega, beta, lambda_hat, dist,\n",
    "            win_df_test, dist_per_grid, timeperiod)\n",
    "        \n",
    "        out_sample_wmapes[test_date] = out_sample_wmape\n",
    "        out_sample_relative_errors.extend(relative_errors)\n"
   ]
  },
  {
   "cell_type": "code",
   "execution_count": 69,
   "metadata": {},
   "outputs": [
    {
     "data": {
      "text/plain": [
       "67.77736887982026"
      ]
     },
     "execution_count": 69,
     "metadata": {},
     "output_type": "execute_result"
    }
   ],
   "source": [
    "np.sum(out_sample_relative_errors)"
   ]
  },
  {
   "cell_type": "code",
   "execution_count": 70,
   "metadata": {},
   "outputs": [
    {
     "data": {
      "text/plain": [
       "{datetime.date(2022, 10, 20): 6.939894672126402,\n",
       " datetime.date(2022, 10, 21): 8.166429988658843}"
      ]
     },
     "execution_count": 70,
     "metadata": {},
     "output_type": "execute_result"
    }
   ],
   "source": [
    "out_sample_wmapes"
   ]
  },
  {
   "cell_type": "markdown",
   "metadata": {},
   "source": [
    "# 5km assort"
   ]
  },
  {
   "cell_type": "code",
   "execution_count": 8,
   "metadata": {},
   "outputs": [],
   "source": [
    "def compute_fixed_assortments(df, dist, num_total_cells, dist_threshold=5.0):\n",
    "\n",
    "    # fixed_assortments = np.zeros((num_total_cells, num_total_cells))\n",
    "    # for i in range(num_total_cells):\n",
    "    #     grid_df = df[df['cust_index'] == i]\n",
    "    #     chosen_sellers = grid_df['sell_index'].unique()\n",
    "    #     fixed_assortments[i, chosen_sellers] = 1\n",
    "    mask = (dist <= dist_threshold)\n",
    "    # fixed_assortments = fixed_assortments * mask # shape (num_total_cells, num_total_cells)\n",
    "    fixed_assortments = mask\n",
    "    return fixed_assortments"
   ]
  },
  {
   "cell_type": "code",
   "execution_count": 9,
   "metadata": {},
   "outputs": [
    {
     "name": "stdout",
     "output_type": "stream",
     "text": [
      "now compute fixed assortments, for dist_per_grid: 1.0 time_interval: 10:00:00 - 11:59:59\n",
      "Processing time window: 10:00:00 to 11:59:59\n",
      "Completed analysis for dist_per_grid=1.0, time_window=('10:00:00', '11:59:59')\n"
     ]
    }
   ],
   "source": [
    "results = []\n",
    "for win_start, win_end in time_intervals:\n",
    "    win_start = win_start\n",
    "    win_end = win_end\n",
    "print('now compute fixed assortments, for dist_per_grid:', dist_per_grid, 'time_interval:', win_start, '-', win_end)\n",
    "# calculate number of cells\n",
    "base_df_tw, num_total_cells, num_cells_lon, _, _, _, _ = Preprocessor.cut_df(base_df, dist_per_grid, timeperiod)\n",
    "# get assortment matrix\n",
    "# fixed_assortments = Preprocessor.compute_fixed_assortments(base_df_tw, dist_per_grid, num_total_cells)\n",
    "\n",
    "print(f\"Processing time window: {win_start} to {win_end}\")\n",
    "start_time = pd.to_datetime(win_start).time()\n",
    "end_time = pd.to_datetime(win_end).time()\n",
    "win_df_train = base_df_tw[(base_df_tw['date'].isin(training_dates)) & \n",
    "                        (base_df_tw['time'] >= start_time) & \n",
    "                        (base_df_tw['time'] <= end_time)].copy()\n",
    "win_df_train['time_window'] = f\"{win_start}-{win_end}\"\n",
    "\n",
    "train_fixed_assortments = compute_fixed_assortments(win_df_train, dist_per_grid, num_total_cells)\n",
    "        \n",
    "print(f\"Completed analysis for dist_per_grid={dpg}, time_window={tw}\")"
   ]
  },
  {
   "cell_type": "code",
   "execution_count": 10,
   "metadata": {},
   "outputs": [],
   "source": [
    "train_fixed_assortments = compute_fixed_assortments(win_df_train, dist_per_grid, num_total_cells)\n",
    "      "
   ]
  },
  {
   "cell_type": "code",
   "execution_count": 11,
   "metadata": {},
   "outputs": [],
   "source": [
    "# omega, beta, lambda_hat, dist, p_m = Estimator.estimate_parameters(num_total_cells, num_cells_lon,\n",
    "#                     win_df_train, dist_per_grid, timeperiod, max_iter=max_iter, tol=tol, fixed_assortments = train_fixed_assortments, penalty=penalty)\n",
    "# num_total_cells\n",
    "# num_cells_lon\n",
    "window_df = win_df_train\n",
    "dist_per_grid=dpg\n",
    "timeperiod= timeperiod\n",
    "max_iter=200\n",
    "tol=1e-6\n",
    "fixed_assortments = train_fixed_assortments\n",
    "penalty=0               "
   ]
  },
  {
   "cell_type": "code",
   "execution_count": 12,
   "metadata": {},
   "outputs": [],
   "source": [
    "df_processed, dist = Estimator.pre_process(window_df, num_cells_lon, dist_per_grid, num_total_cells)"
   ]
  },
  {
   "cell_type": "code",
   "execution_count": 13,
   "metadata": {},
   "outputs": [
    {
     "name": "stdout",
     "output_type": "stream",
     "text": [
      "dist_per_grid: 1.0| iteration: 0 | diff_omega: 0.017213830366508434 | diff_beta: 53474321.15575557\n",
      "Iter 0: Loss 173705.37, Alpha 1.037\n",
      "dist_per_grid: 1.0| iteration: 1 | diff_omega: 0.006042186700510845 | diff_beta: 0.05079010943843646\n",
      "Iter 1: Loss 200914.71, Alpha 0.985\n",
      "dist_per_grid: 1.0| iteration: 2 | diff_omega: 0.0038602875641194252 | diff_beta: 0.0027095256049492313\n",
      "Iter 2: Loss 214221.37, Alpha 1.030\n",
      "dist_per_grid: 1.0| iteration: 3 | diff_omega: 0.0031342637303621995 | diff_beta: 0.0035998146800189567\n",
      "Iter 3: Loss 226042.55, Alpha 1.049\n",
      "dist_per_grid: 1.0| iteration: 4 | diff_omega: 0.002079599614872224 | diff_beta: 0.002527366331341369\n",
      "Iter 4: Loss 234522.05, Alpha 1.022\n",
      "dist_per_grid: 1.0| iteration: 5 | diff_omega: 0.001551717697753599 | diff_beta: 0.001502034795492199\n",
      "Iter 5: Loss 243973.57, Alpha 1.041\n",
      "dist_per_grid: 1.0| iteration: 6 | diff_omega: 0.00107441865434256 | diff_beta: 0.0028588198901547926\n",
      "Iter 6: Loss 251903.96, Alpha 1.037\n",
      "dist_per_grid: 1.0| iteration: 7 | diff_omega: 0.0008267177919811797 | diff_beta: 0.0019771253588674017\n",
      "Iter 7: Loss 259095.62, Alpha 1.008\n",
      "dist_per_grid: 1.0| iteration: 8 | diff_omega: 0.0006654383722697818 | diff_beta: 0.0022241853612294214\n",
      "Iter 8: Loss 263890.54, Alpha 1.029\n",
      "dist_per_grid: 1.0| iteration: 9 | diff_omega: 0.0005078903337689122 | diff_beta: 0.0014511928039397243\n",
      "Iter 9: Loss 270549.54, Alpha 1.037\n",
      "dist_per_grid: 1.0| iteration: 10 | diff_omega: 0.00040191100397598406 | diff_beta: 0.0058572165091944125\n",
      "Iter 10: Loss 276623.83, Alpha 1.034\n",
      "dist_per_grid: 1.0| iteration: 11 | diff_omega: 0.00032006921623468215 | diff_beta: 0.0017916330186759268\n",
      "Iter 11: Loss 283111.55, Alpha 1.047\n",
      "dist_per_grid: 1.0| iteration: 12 | diff_omega: 0.0002507169071118698 | diff_beta: 0.0007347737977666835\n",
      "Iter 12: Loss 289509.31, Alpha 1.032\n",
      "dist_per_grid: 1.0| iteration: 13 | diff_omega: 0.00020373472545088395 | diff_beta: 0.0032377359206181523\n",
      "Iter 13: Loss 295160.10, Alpha 0.975\n",
      "dist_per_grid: 1.0| iteration: 14 | diff_omega: 0.0001681465502609003 | diff_beta: 0.016876323045323674\n",
      "Iter 14: Loss 300308.70, Alpha 1.022\n",
      "dist_per_grid: 1.0| iteration: 15 | diff_omega: 0.00013441827016653224 | diff_beta: 0.003930587099929892\n",
      "Iter 15: Loss 305972.07, Alpha 1.027\n",
      "dist_per_grid: 1.0| iteration: 16 | diff_omega: 0.0001103034753009019 | diff_beta: 0.0012959549216814208\n",
      "Iter 16: Loss 311559.78, Alpha 0.999\n",
      "dist_per_grid: 1.0| iteration: 17 | diff_omega: 9.314716099886877e-05 | diff_beta: 0.002255377026816778\n",
      "Iter 17: Loss 316432.34, Alpha 1.016\n",
      "dist_per_grid: 1.0| iteration: 18 | diff_omega: 7.551782804687823e-05 | diff_beta: 0.002416631593696236\n",
      "Iter 18: Loss 322282.56, Alpha 1.025\n",
      "dist_per_grid: 1.0| iteration: 19 | diff_omega: 6.212283352664827e-05 | diff_beta: 0.0010335936552854023\n",
      "Iter 19: Loss 327887.65, Alpha 1.009\n",
      "dist_per_grid: 1.0| iteration: 20 | diff_omega: 5.1946508960939997e-05 | diff_beta: 0.00020677968404833355\n",
      "Iter 20: Loss 333717.22, Alpha 1.024\n",
      "dist_per_grid: 1.0| iteration: 21 | diff_omega: 4.266957420243078e-05 | diff_beta: 0.0004253577507373122\n",
      "Iter 21: Loss 338954.51, Alpha 1.021\n",
      "dist_per_grid: 1.0| iteration: 22 | diff_omega: 3.573423033689099e-05 | diff_beta: 0.00025289509380282504\n",
      "Iter 22: Loss 344423.12, Alpha 1.031\n",
      "dist_per_grid: 1.0| iteration: 23 | diff_omega: 3.0118416707754225e-05 | diff_beta: 0.0003266985866387468\n",
      "Iter 23: Loss 349462.57, Alpha 1.027\n",
      "dist_per_grid: 1.0| iteration: 24 | diff_omega: 2.5047436161433623e-05 | diff_beta: 0.00044244357524741095\n",
      "Iter 24: Loss 355275.42, Alpha 1.014\n",
      "dist_per_grid: 1.0| iteration: 25 | diff_omega: 2.1081726845097182e-05 | diff_beta: 0.0010269548360523147\n",
      "Iter 25: Loss 360299.62, Alpha 1.019\n",
      "dist_per_grid: 1.0| iteration: 26 | diff_omega: 1.765947060797246e-05 | diff_beta: 0.0005512470195329372\n",
      "Iter 26: Loss 365873.73, Alpha 0.995\n",
      "dist_per_grid: 1.0| iteration: 27 | diff_omega: 1.472389785399375e-05 | diff_beta: 0.000571799746903334\n",
      "Iter 27: Loss 371698.53, Alpha 1.015\n",
      "dist_per_grid: 1.0| iteration: 28 | diff_omega: 1.228967385744767e-05 | diff_beta: 0.003097050378191978\n",
      "Iter 28: Loss 377111.40, Alpha 1.018\n",
      "dist_per_grid: 1.0| iteration: 29 | diff_omega: 1.043368213415885e-05 | diff_beta: 3.5445262985269206e-05\n",
      "Iter 29: Loss 382372.34, Alpha 1.023\n",
      "dist_per_grid: 1.0| iteration: 30 | diff_omega: 8.927914643470924e-06 | diff_beta: 0.00021037990928215447\n",
      "Iter 30: Loss 387154.46, Alpha 1.014\n",
      "dist_per_grid: 1.0| iteration: 31 | diff_omega: 7.624586427376623e-06 | diff_beta: 4.358254669092982e-05\n",
      "Iter 31: Loss 392663.63, Alpha 1.028\n",
      "dist_per_grid: 1.0| iteration: 32 | diff_omega: 6.41901595024863e-06 | diff_beta: 0.00013459019630031186\n",
      "Iter 32: Loss 397928.19, Alpha 1.026\n",
      "dist_per_grid: 1.0| iteration: 33 | diff_omega: 5.4489141161975785e-06 | diff_beta: 7.776583929357822e-05\n",
      "Iter 33: Loss 403351.19, Alpha 1.020\n",
      "dist_per_grid: 1.0| iteration: 34 | diff_omega: 4.62779106243788e-06 | diff_beta: 0.0001467586976676302\n",
      "Iter 34: Loss 408606.01, Alpha 1.017\n",
      "dist_per_grid: 1.0| iteration: 35 | diff_omega: 3.923611211521794e-06 | diff_beta: 4.280222992629097e-05\n",
      "Iter 35: Loss 414171.93, Alpha 1.017\n",
      "dist_per_grid: 1.0| iteration: 36 | diff_omega: 3.3011841471392023e-06 | diff_beta: 0.00014292013167556771\n",
      "Iter 36: Loss 419608.90, Alpha 1.013\n",
      "dist_per_grid: 1.0| iteration: 37 | diff_omega: 2.8500758084415434e-06 | diff_beta: 4.113083000932942e-05\n",
      "Iter 37: Loss 424873.93, Alpha 1.021\n",
      "dist_per_grid: 1.0| iteration: 38 | diff_omega: 2.4243827901476722e-06 | diff_beta: 0.00013736812566328467\n",
      "Iter 38: Loss 429692.04, Alpha 0.998\n",
      "dist_per_grid: 1.0| iteration: 39 | diff_omega: 2.0773099048826404e-06 | diff_beta: 4.49054818563942e-05\n",
      "Iter 39: Loss 435290.92, Alpha 1.019\n",
      "dist_per_grid: 1.0| iteration: 40 | diff_omega: 1.7563598142394943e-06 | diff_beta: 7.059621555358864e-05\n",
      "Iter 40: Loss 440404.87, Alpha 1.024\n",
      "dist_per_grid: 1.0| iteration: 41 | diff_omega: 1.4858623725855225e-06 | diff_beta: 7.396163119595818e-05\n",
      "Iter 41: Loss 446165.67, Alpha 1.010\n",
      "dist_per_grid: 1.0| iteration: 42 | diff_omega: 1.2536545110006236e-06 | diff_beta: 2.407620774064335e-05\n",
      "Iter 42: Loss 451953.56, Alpha 1.031\n",
      "dist_per_grid: 1.0| iteration: 43 | diff_omega: 1.0757120209384241e-06 | diff_beta: 9.20532077802973e-05\n",
      "Iter 43: Loss 456911.18, Alpha 1.016\n",
      "dist_per_grid: 1.0| iteration: 44 | diff_omega: 9.265277614647904e-07 | diff_beta: 3.519885965903942e-05\n",
      "Iter 44: Loss 462107.78, Alpha 1.013\n",
      "dist_per_grid: 1.0| iteration: 45 | diff_omega: 7.776273830556457e-07 | diff_beta: 6.335228272244131e-05\n",
      "Iter 45: Loss 467981.32, Alpha 1.013\n",
      "dist_per_grid: 1.0| iteration: 46 | diff_omega: 6.638842997910843e-07 | diff_beta: 4.0552248674852514e-05\n",
      "Iter 46: Loss 473282.38, Alpha 1.011\n",
      "dist_per_grid: 1.0| iteration: 47 | diff_omega: 5.707307357757929e-07 | diff_beta: 4.563586040673659e-05\n",
      "Iter 47: Loss 478314.53, Alpha 1.014\n",
      "dist_per_grid: 1.0| iteration: 48 | diff_omega: 4.9198022374769e-07 | diff_beta: 3.869021003010648e-05\n",
      "Iter 48: Loss 483442.88, Alpha 1.031\n",
      "dist_per_grid: 1.0| iteration: 49 | diff_omega: 4.225194382076469e-07 | diff_beta: 4.702238879051459e-05\n",
      "Iter 49: Loss 488445.08, Alpha 1.026\n",
      "dist_per_grid: 1.0| iteration: 50 | diff_omega: 3.6195829986734873e-07 | diff_beta: 5.9884845918388774e-05\n",
      "Iter 50: Loss 493618.40, Alpha 1.023\n",
      "dist_per_grid: 1.0| iteration: 51 | diff_omega: 3.121659952962097e-07 | diff_beta: 4.747561037796323e-05\n",
      "Iter 51: Loss 499064.53, Alpha 1.027\n",
      "dist_per_grid: 1.0| iteration: 52 | diff_omega: 2.7022466208420637e-07 | diff_beta: 4.3832900085646806e-05\n",
      "Iter 52: Loss 503762.89, Alpha 1.024\n",
      "dist_per_grid: 1.0| iteration: 53 | diff_omega: 2.313929562264283e-07 | diff_beta: 7.154617707411234e-05\n",
      "Iter 53: Loss 508941.89, Alpha 1.004\n",
      "dist_per_grid: 1.0| iteration: 54 | diff_omega: 1.9908358039194551e-07 | diff_beta: 4.576357161058819e-05\n",
      "Iter 54: Loss 514464.82, Alpha 1.027\n",
      "dist_per_grid: 1.0| iteration: 55 | diff_omega: 1.7038306777267254e-07 | diff_beta: 7.999142287763144e-05\n",
      "Iter 55: Loss 518706.62, Alpha 1.017\n",
      "dist_per_grid: 1.0| iteration: 56 | diff_omega: 1.4849447704107233e-07 | diff_beta: 4.152571700745007e-05\n",
      "Iter 56: Loss 524178.43, Alpha 1.020\n",
      "dist_per_grid: 1.0| iteration: 57 | diff_omega: 1.2739750642615233e-07 | diff_beta: 6.731536151533643e-05\n",
      "Iter 57: Loss 529337.83, Alpha 1.012\n",
      "dist_per_grid: 1.0| iteration: 58 | diff_omega: 1.0801967458007322e-07 | diff_beta: 3.3982287895457305e-05\n",
      "Iter 58: Loss 535166.76, Alpha 1.017\n",
      "dist_per_grid: 1.0| iteration: 59 | diff_omega: 9.188693482486965e-08 | diff_beta: 3.6740774269524245e-05\n",
      "Iter 59: Loss 540677.14, Alpha 1.031\n",
      "dist_per_grid: 1.0| iteration: 60 | diff_omega: 7.903308357065653e-08 | diff_beta: 4.306366861515404e-05\n",
      "Iter 60: Loss 545765.13, Alpha 1.028\n",
      "dist_per_grid: 1.0| iteration: 61 | diff_omega: 6.861680548753135e-08 | diff_beta: 4.064028007151022e-05\n",
      "Iter 61: Loss 550687.99, Alpha 1.012\n",
      "dist_per_grid: 1.0| iteration: 62 | diff_omega: 5.889749550569423e-08 | diff_beta: 2.6654256456147604e-05\n",
      "Iter 62: Loss 556131.66, Alpha 1.031\n",
      "dist_per_grid: 1.0| iteration: 63 | diff_omega: 5.1424542332756396e-08 | diff_beta: 5.467765338268054e-05\n",
      "Iter 63: Loss 560558.39, Alpha 1.032\n",
      "dist_per_grid: 1.0| iteration: 64 | diff_omega: 4.372207691033525e-08 | diff_beta: 2.5933158234984656e-05\n",
      "Iter 64: Loss 566384.58, Alpha 1.042\n",
      "dist_per_grid: 1.0| iteration: 65 | diff_omega: 3.80202094044102e-08 | diff_beta: 3.752204997022425e-05\n",
      "Iter 65: Loss 570942.51, Alpha 1.040\n",
      "dist_per_grid: 1.0| iteration: 66 | diff_omega: 3.299411348300918e-08 | diff_beta: 2.311445076658644e-05\n",
      "Iter 66: Loss 576117.18, Alpha 1.041\n",
      "dist_per_grid: 1.0| iteration: 67 | diff_omega: 2.8403487825623408e-08 | diff_beta: 3.875602834032598e-05\n",
      "Iter 67: Loss 581202.06, Alpha 1.043\n"
     ]
    }
   ],
   "source": [
    "df = df_processed.copy()\n",
    "N = len(df)\n",
    "omega = np.ones(num_total_cells) / num_total_cells\n",
    "beta = np.zeros(1 + num_total_cells + num_total_cells)\n",
    "beta[0] = 10\n",
    "beta[1:1 + num_total_cells] = 0\n",
    "beta[1 + num_total_cells:] = 0\n",
    "\n",
    "for iteration in range(max_iter):\n",
    "    p_m = Estimator.compute_p(beta, dist, num_total_cells, fixed_assortments)\n",
    "    sum_p_no_purchase = (omega * p_m[:, -1]).sum()\n",
    "    if (1 - sum_p_no_purchase) < 1e-6:\n",
    "        break\n",
    "    factor = N / (1 - sum_p_no_purchase)\n",
    "    c = np.array([(df['cust_index'] == i ).sum() + factor * omega[i] * p_m[i, -1] \n",
    "                    for i in range(num_total_cells)])\n",
    "    omega_new = c / (c.sum())\n",
    "    res = minimize(\n",
    "        Estimator.objective_beta, beta,\n",
    "        args=(df['cust_index'].values, df['sell_index'].values, omega, p_m, factor, dist, \n",
    "                num_total_cells, fixed_assortments, penalty),\n",
    "        method='L-BFGS-B',\n",
    "        bounds=[(0, None)] + [(None, None)] * num_total_cells + [(None, None)] * num_total_cells\n",
    "    )\n",
    "    beta_new = res.x\n",
    "    rate_change_beta = np.max(np.abs(beta_new - beta) / (1000 * (beta + 1e-10)))\n",
    "    print(f'dist_per_grid: {dist_per_grid}| iteration: {iteration} | diff_omega: {np.max(np.abs(omega_new - omega))} | diff_beta: {rate_change_beta}')\n",
    "    if (np.max(np.abs(omega_new - omega)) < tol) and (rate_change_beta < tol):\n",
    "        print(f\"Converged at iteration {iteration}\")\n",
    "        break\n",
    "    omega, beta = omega_new, beta_new\n",
    "    print(f\"Iter {iteration}: Loss {res.fun:.2f}, Alpha {beta[0]:.3f}\")\n"
   ]
  },
  {
   "cell_type": "code",
   "execution_count": 14,
   "metadata": {},
   "outputs": [],
   "source": [
    "p_m = Estimator.compute_p(beta, dist, num_total_cells, fixed_assortments)\n",
    "T_train = df_processed['time_index'].nunique()\n",
    "sum_over_l_b = (omega[:, None] * p_m[:, :-1]).sum()\n",
    "d_eval = df_processed['date'].nunique()\n",
    "lambda_hat = len(df_processed) / (d_eval * T_train * sum_over_l_b) if T_train * sum_over_l_b != 0 else 0\n"
   ]
  },
  {
   "cell_type": "markdown",
   "metadata": {},
   "source": [
    "train with 5km assortment"
   ]
  },
  {
   "cell_type": "code",
   "execution_count": 17,
   "metadata": {},
   "outputs": [],
   "source": [
    "win_df_test = base_df_tw[(base_df_tw['date'].isin(testing_dates)) & \n",
    "                    (base_df_tw['time'] >= start_time) & \n",
    "                    (base_df_tw['time'] <= end_time)].copy()\n",
    "win_df_test['time_window'] = f\"{win_start}-{win_end}\"\n",
    "\n",
    "\n",
    "# calculate the ratio of overlap \n",
    "\n",
    "out_sample_wmapes = {}\n",
    "out_sample_relative_errors = []\n",
    "out_sample_assort_ratio = {}\n",
    "for test_date in testing_dates:\n",
    "    win_df_test = base_df_tw[(base_df_tw['date'] == test_date) & \n",
    "                            (base_df_tw['time'] >= start_time) & \n",
    "                            (base_df_tw['time'] <= end_time)].copy()\n",
    "    # test_fixed_assortments = compute_fixed_assortments(win_df_test, dist_per_grid, num_total_cells)\n",
    "    if len(win_df_test) > 0:\n",
    "        out_sample_wmape, relative_errors = calculate_wmape(\n",
    "            train_fixed_assortments,\n",
    "            p_m, omega, beta, lambda_hat, dist,\n",
    "            win_df_test, dist_per_grid, timeperiod)\n",
    "        \n",
    "        out_sample_wmapes[test_date] = out_sample_wmape\n",
    "        out_sample_relative_errors.extend(relative_errors)\n"
   ]
  },
  {
   "cell_type": "code",
   "execution_count": 18,
   "metadata": {},
   "outputs": [
    {
     "data": {
      "text/plain": [
       "{datetime.date(2022, 10, 20): 90.91315254558697,\n",
       " datetime.date(2022, 10, 21): 92.44809029290042}"
      ]
     },
     "execution_count": 18,
     "metadata": {},
     "output_type": "execute_result"
    }
   ],
   "source": [
    "out_sample_wmapes"
   ]
  },
  {
   "cell_type": "markdown",
   "metadata": {},
   "source": [
    "test with observed assortment"
   ]
  },
  {
   "cell_type": "code",
   "execution_count": 39,
   "metadata": {},
   "outputs": [],
   "source": [
    "win_df_test = base_df_tw[(base_df_tw['date'].isin(testing_dates)) & \n",
    "                    (base_df_tw['time'] >= start_time) & \n",
    "                    (base_df_tw['time'] <= end_time)].copy()\n",
    "win_df_test['time_window'] = f\"{win_start}-{win_end}\"\n",
    "\n",
    "\n",
    "# calculate the ratio of overlap \n",
    "\n",
    "out_sample_wmapes = {}\n",
    "out_sample_relative_errors = []\n",
    "out_sample_assort_ratio = {}\n",
    "for test_date in testing_dates:\n",
    "    win_df_test = base_df_tw[(base_df_tw['date'] == test_date) & \n",
    "                            (base_df_tw['time'] >= start_time) & \n",
    "                            (base_df_tw['time'] <= end_time)].copy()\n",
    "    test_fixed_assortments = compute_fixed_assortments(win_df_test, dist_per_grid, num_total_cells)\n",
    "    if len(win_df_test) > 0:\n",
    "        out_sample_wmape, relative_errors = calculate_wmape(\n",
    "            test_fixed_assortments,\n",
    "            p_m, omega, beta, lambda_hat, dist,\n",
    "            win_df_test, dist_per_grid, timeperiod)\n",
    "        \n",
    "        out_sample_wmapes[test_date] = out_sample_wmape\n",
    "        out_sample_relative_errors.extend(relative_errors)\n"
   ]
  },
  {
   "cell_type": "code",
   "execution_count": 40,
   "metadata": {},
   "outputs": [
    {
     "data": {
      "text/plain": [
       "{datetime.date(2022, 10, 20): 12.838474528772153,\n",
       " datetime.date(2022, 10, 21): 13.01573252565281}"
      ]
     },
     "execution_count": 40,
     "metadata": {},
     "output_type": "execute_result"
    }
   ],
   "source": [
    "out_sample_wmapes"
   ]
  },
  {
   "cell_type": "markdown",
   "metadata": {},
   "source": [
    "test without observed assortment"
   ]
  },
  {
   "cell_type": "code",
   "execution_count": 36,
   "metadata": {},
   "outputs": [],
   "source": [
    "def calculate_wmape(extra_assortment, p_m, omega, beta, lambda_hat, dist, eval_df, dist_per_grid, timeperiod):\n",
    "    eval_df, num_total_cells, _, _, _, _, _ = Preprocessor.cut_df(eval_df, dist_per_grid, timeperiod)\n",
    "    T_eval = eval_df['time_index'].nunique()\n",
    "    \n",
    "    # if extra_assortment == True:\n",
    "    # special note:\n",
    "    p_m = Estimator.compute_p(beta, dist, num_total_cells, extra_assortment)\n",
    "\n",
    "    # Calculate actual o_ij\n",
    "    o_ij_actual = np.zeros((num_total_cells, num_total_cells))\n",
    "    for _, row in eval_df.iterrows(): # \n",
    "        i = row['cust_index'] - 1  # Adjust to 0-based index\n",
    "        j = row['sell_index'] - 1  # Adjust to 0-based index\n",
    "        # calculate choose probability for each i, j\n",
    "        o_ij_actual[i, j] += 1\n",
    "    # pdb.set_trace()\n",
    "    # o_ij_actual = o_ij_actual / o_ij_actual.sum(axis=1, keepdims=True) if o_ij_actual.sum(axis=1, keepdims=True) > 0 else 0\n",
    "\n",
    "    # Calculate predicted o_ij\n",
    "    o_ij_hat = np.zeros((num_total_cells, num_total_cells))\n",
    "    for i in range(num_total_cells):\n",
    "        for j in range(num_total_cells):\n",
    "            # calculate choose probability for each i, j\n",
    "            o_ij_hat[i, j] = lambda_hat * T_eval * omega[i] * p_m[i, j]\n",
    "        # normalize each row to sum to 1\n",
    "        o_ij_actual[i, :] = o_ij_actual[i, :] / o_ij_actual[i, :].sum() if o_ij_actual[i, :].sum() > 0 else 0\n",
    "        o_ij_hat[i, :] = o_ij_hat[i, :] / o_ij_hat[i, :].sum() if o_ij_hat[i, :].sum() > 0 else 0\n",
    "\n",
    "    # pdb.set_trace()\n",
    "    # o_ij_hat = o_ij_hat / o_ij_hat.sum(axis=1, keepdims=True) if o_ij_hat.sum(axis=1, keepdims=True) > 0 else 0\n",
    "\n",
    "    # Calculate relative error for each i, j where o_ij > 0\n",
    "    # relative_errors = []\n",
    "    # for i in range(num_total_cells):\n",
    "    #     for j in range(num_total_cells):\n",
    "    #         # if o_ij_actual[i, j] > 0:\n",
    "    #         error = abs(o_ij_hat[i, j] - o_ij_actual[i, j]) / (o_ij_actual[i, j] + 1e-6) * 100\n",
    "    #         relative_errors.append(error)\n",
    "    \n",
    "    # flatten the arrays to 1D\n",
    "    o_ij_actual = o_ij_actual.flatten()\n",
    "    o_ij_hat = o_ij_hat.flatten()\n",
    "\n",
    "    # Calculate relative errors, only division by o_ij_actual where o_ij_actual > 0\n",
    "    # relative_errors = np.where(o_ij_actual > 0, (np.abs(o_ij_actual - o_ij_hat) / o_ij_actual) * 100, 0)\n",
    "    # turn off the error report for division by zero\n",
    "    # relative_errors = np.where(o_ij_actual > 0, (np.abs(o_ij_actual - o_ij_hat) / o_ij_actual) * 100, 0)\n",
    "    \n",
    "    relative_errors = np.abs(o_ij_actual - o_ij_hat)\n",
    "\n",
    "    # remove inf values from relative_errors away\n",
    "    relative_errors = relative_errors[~np.isinf(relative_errors) & ~np.isnan(relative_errors)]  # remove inf values\n",
    "    # print(f'Relative errors: {relative_errors}')\n",
    "    # relative_errors = (np.abs(o_ij_actual - o_ij_hat) / o_ij_actual) * 100  if o_ij_actual > 0 else 0\n",
    "\n",
    "\n",
    "    # Calculate WMAPE as before\n",
    "    N_hat = np.array([lambda_hat * T_eval * (omega * p_m[:, c]).sum() for c in range(num_total_cells)])\n",
    "    N_actual = np.zeros(num_total_cells)\n",
    "    for i in range(num_total_cells):\n",
    "        N_actual[i] = len(eval_df[(eval_df['sell_index'] == i+1)])\n",
    "    wmape = (np.abs(N_actual - N_hat).sum() / N_actual.sum()) * 100 if N_actual.sum() > 0 else 0 # shape: \n",
    "    # print(f'N_hat: {N_hat} | N_actual: {N_actual}\\nT_eval: {T_eval} | wmape: {wmape}')\n",
    "    \n",
    "    return wmape, relative_errors"
   ]
  },
  {
   "cell_type": "code",
   "execution_count": 37,
   "metadata": {},
   "outputs": [],
   "source": [
    "win_df_test = base_df_tw[(base_df_tw['date'].isin(testing_dates)) & \n",
    "                    (base_df_tw['time'] >= start_time) & \n",
    "                    (base_df_tw['time'] <= end_time)].copy()\n",
    "win_df_test['time_window'] = f\"{win_start}-{win_end}\"\n",
    "\n",
    "\n",
    "# calculate the ratio of overlap \n",
    "\n",
    "out_sample_wmapes = {}\n",
    "out_sample_relative_errors = []\n",
    "out_sample_assort_ratio = {}\n",
    "for test_date in testing_dates:\n",
    "    win_df_test = base_df_tw[(base_df_tw['date'] == test_date) & \n",
    "                            (base_df_tw['time'] >= start_time) & \n",
    "                            (base_df_tw['time'] <= end_time)].copy()\n",
    "    # test_fixed_assortments = compute_fixed_assortments(win_df_test, dist_per_grid, num_total_cells)\n",
    "    if len(win_df_test) > 0:\n",
    "        out_sample_wmape, relative_errors = calculate_wmape(\n",
    "            train_fixed_assortments,\n",
    "            p_m, omega, beta, lambda_hat, dist,\n",
    "            win_df_test, dist_per_grid, timeperiod)\n",
    "        \n",
    "        out_sample_wmapes[test_date] = out_sample_wmape\n",
    "        out_sample_relative_errors.extend(relative_errors)\n"
   ]
  },
  {
   "cell_type": "code",
   "execution_count": 38,
   "metadata": {},
   "outputs": [
    {
     "data": {
      "text/plain": [
       "{datetime.date(2022, 10, 20): 12.838474528772153,\n",
       " datetime.date(2022, 10, 21): 13.01573252565281}"
      ]
     },
     "execution_count": 38,
     "metadata": {},
     "output_type": "execute_result"
    }
   ],
   "source": [
    "out_sample_wmapes"
   ]
  },
  {
   "cell_type": "code",
   "execution_count": null,
   "metadata": {},
   "outputs": [],
   "source": [
    "out_sample_wmapes"
   ]
  },
  {
   "cell_type": "markdown",
   "metadata": {},
   "source": [
    "When grids smaller, hit ratio "
   ]
  },
  {
   "cell_type": "code",
   "execution_count": null,
   "metadata": {},
   "outputs": [],
   "source": []
  }
 ],
 "metadata": {
  "kernelspec": {
   "display_name": "base",
   "language": "python",
   "name": "python3"
  },
  "language_info": {
   "codemirror_mode": {
    "name": "ipython",
    "version": 3
   },
   "file_extension": ".py",
   "mimetype": "text/x-python",
   "name": "python",
   "nbconvert_exporter": "python",
   "pygments_lexer": "ipython3",
   "version": "3.9.13"
  }
 },
 "nbformat": 4,
 "nbformat_minor": 2
}
